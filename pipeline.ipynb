{
  "cells": [
    {
      "cell_type": "markdown",
      "metadata": {
        "id": "CCwKBU2dH23P"
      },
      "source": [
        "#Required Imports"
      ]
    },
    {
      "cell_type": "markdown",
      "metadata": {
        "id": "cN5ydjIQ-39e"
      },
      "source": [
        "##Basic Libraries"
      ]
    },
    {
      "cell_type": "code",
      "execution_count": 1,
      "metadata": {
        "id": "X2jMjvrt-7Hp"
      },
      "outputs": [],
      "source": [
        "import numpy as np\n",
        "import pandas as pd\n",
        "import seaborn as sbn\n",
        "import matplotlib.pyplot as plt\n",
        "import sklearn\n",
        "from tqdm import tqdm"
      ]
    },
    {
      "cell_type": "markdown",
      "metadata": {
        "id": "E9uui3pn--Km"
      },
      "source": [
        "##Data Preprocessing"
      ]
    },
    {
      "cell_type": "code",
      "execution_count": 2,
      "metadata": {
        "id": "A4jhOYhc_Avu"
      },
      "outputs": [],
      "source": [
        "from sklearn.preprocessing import StandardScaler\n",
        "from sklearn.model_selection import train_test_split\n",
        "from imblearn.over_sampling import SMOTE"
      ]
    },
    {
      "cell_type": "markdown",
      "metadata": {
        "id": "IO2Aw1sZ_FDX"
      },
      "source": [
        "##Models"
      ]
    },
    {
      "cell_type": "code",
      "execution_count": 3,
      "metadata": {
        "colab": {
          "base_uri": "https://localhost:8080/"
        },
        "id": "7D142pjeyNWs",
        "outputId": "c5775759-5b45-43f9-ab35-de95ce724a25"
      },
      "outputs": [
        {
          "name": "stdout",
          "output_type": "stream",
          "text": [
            "Collecting scikeras\n",
            "  Downloading scikeras-0.13.0-py3-none-any.whl.metadata (3.1 kB)\n",
            "Requirement already satisfied: keras>=3.2.0 in /usr/local/lib/python3.11/dist-packages (from scikeras) (3.8.0)\n",
            "Requirement already satisfied: scikit-learn>=1.4.2 in /usr/local/lib/python3.11/dist-packages (from scikeras) (1.6.1)\n",
            "Requirement already satisfied: absl-py in /usr/local/lib/python3.11/dist-packages (from keras>=3.2.0->scikeras) (1.4.0)\n",
            "Requirement already satisfied: numpy in /usr/local/lib/python3.11/dist-packages (from keras>=3.2.0->scikeras) (2.0.2)\n",
            "Requirement already satisfied: rich in /usr/local/lib/python3.11/dist-packages (from keras>=3.2.0->scikeras) (13.9.4)\n",
            "Requirement already satisfied: namex in /usr/local/lib/python3.11/dist-packages (from keras>=3.2.0->scikeras) (0.1.0)\n",
            "Requirement already satisfied: h5py in /usr/local/lib/python3.11/dist-packages (from keras>=3.2.0->scikeras) (3.13.0)\n",
            "Requirement already satisfied: optree in /usr/local/lib/python3.11/dist-packages (from keras>=3.2.0->scikeras) (0.16.0)\n",
            "Requirement already satisfied: ml-dtypes in /usr/local/lib/python3.11/dist-packages (from keras>=3.2.0->scikeras) (0.4.1)\n",
            "Requirement already satisfied: packaging in /usr/local/lib/python3.11/dist-packages (from keras>=3.2.0->scikeras) (24.2)\n",
            "Requirement already satisfied: scipy>=1.6.0 in /usr/local/lib/python3.11/dist-packages (from scikit-learn>=1.4.2->scikeras) (1.15.3)\n",
            "Requirement already satisfied: joblib>=1.2.0 in /usr/local/lib/python3.11/dist-packages (from scikit-learn>=1.4.2->scikeras) (1.5.1)\n",
            "Requirement already satisfied: threadpoolctl>=3.1.0 in /usr/local/lib/python3.11/dist-packages (from scikit-learn>=1.4.2->scikeras) (3.6.0)\n",
            "Requirement already satisfied: typing-extensions>=4.6.0 in /usr/local/lib/python3.11/dist-packages (from optree->keras>=3.2.0->scikeras) (4.14.0)\n",
            "Requirement already satisfied: markdown-it-py>=2.2.0 in /usr/local/lib/python3.11/dist-packages (from rich->keras>=3.2.0->scikeras) (3.0.0)\n",
            "Requirement already satisfied: pygments<3.0.0,>=2.13.0 in /usr/local/lib/python3.11/dist-packages (from rich->keras>=3.2.0->scikeras) (2.19.1)\n",
            "Requirement already satisfied: mdurl~=0.1 in /usr/local/lib/python3.11/dist-packages (from markdown-it-py>=2.2.0->rich->keras>=3.2.0->scikeras) (0.1.2)\n",
            "Downloading scikeras-0.13.0-py3-none-any.whl (26 kB)\n",
            "Installing collected packages: scikeras\n",
            "Successfully installed scikeras-0.13.0\n"
          ]
        }
      ],
      "source": [
        "pip install scikeras"
      ]
    },
    {
      "cell_type": "code",
      "execution_count": 4,
      "metadata": {
        "id": "J1IGVnB2_HAS"
      },
      "outputs": [],
      "source": [
        "#ML Models\n",
        "import xgboost as xgb\n",
        "from sklearn.tree import DecisionTreeClassifier\n",
        "from sklearn.linear_model import LogisticRegression\n",
        "from sklearn.svm import SVC\n",
        "from xgboost import XGBClassifier\n",
        "\n",
        "#Neural Net\n",
        "import tensorflow as tf\n",
        "from tensorflow.keras.models import Sequential\n",
        "from tensorflow.keras.layers import Dense, Dropout\n",
        "from tensorflow.keras.callbacks import Callback\n",
        "from scikeras.wrappers import KerasClassifier"
      ]
    },
    {
      "cell_type": "markdown",
      "metadata": {
        "id": "ZzfK2NMJ_PdA"
      },
      "source": [
        "##Metrics and Helpers"
      ]
    },
    {
      "cell_type": "code",
      "execution_count": 5,
      "metadata": {
        "id": "DnmVe7jOGKik"
      },
      "outputs": [],
      "source": [
        "#Metrics\n",
        "from sklearn.metrics import classification_report, confusion_matrix, f1_score, precision_score, recall_score,fbeta_score\n",
        "from sklearn.metrics import roc_auc_score, accuracy_score\n",
        "\n",
        "#Helpers\n",
        "from scipy.stats import mode\n",
        "from sklearn.model_selection import GridSearchCV\n",
        "from collections import Counter"
      ]
    },
    {
      "cell_type": "markdown",
      "metadata": {
        "id": "ne6bahpbKrjt"
      },
      "source": [
        "Set random state of pipeline"
      ]
    },
    {
      "cell_type": "code",
      "execution_count": 6,
      "metadata": {
        "id": "xVnXTv3yKx9E"
      },
      "outputs": [],
      "source": [
        "rs=40"
      ]
    },
    {
      "cell_type": "markdown",
      "metadata": {
        "id": "xMsrRMBPJiFI"
      },
      "source": [
        "# Data Loading\n",
        "\n"
      ]
    },
    {
      "cell_type": "markdown",
      "metadata": {
        "id": "TK12QtHxH61O"
      },
      "source": [
        "Loading train data"
      ]
    },
    {
      "cell_type": "code",
      "execution_count": 7,
      "metadata": {
        "id": "I9pOxZYhGlZN"
      },
      "outputs": [],
      "source": [
        "train_df = pd.read_csv(\"/content/train_dataset_final1.csv\")\n",
        "train_df.rename(columns={'pay_0': 'pay_1'}, inplace=True)"
      ]
    },
    {
      "cell_type": "markdown",
      "metadata": {
        "id": "yOofKLZdKCPi"
      },
      "source": [
        "Loading test data"
      ]
    },
    {
      "cell_type": "code",
      "execution_count": 8,
      "metadata": {
        "id": "Oah_ToKYJv-d"
      },
      "outputs": [],
      "source": [
        "test_df = pd.read_csv(\"/content/validate_dataset_final.csv\")\n",
        "test_df.rename(columns={'pay_0': 'pay_1'}, inplace=True)"
      ]
    },
    {
      "cell_type": "markdown",
      "metadata": {
        "id": "ERvOQnw2KkB7"
      },
      "source": [
        "Finding and cleaning NaN values(by filling with median values of columns)"
      ]
    },
    {
      "cell_type": "code",
      "execution_count": 9,
      "metadata": {
        "colab": {
          "base_uri": "https://localhost:8080/"
        },
        "id": "_53KFtYaJpOm",
        "outputId": "1304f885-b8d2-40a4-8571-83d69dc3be95"
      },
      "outputs": [
        {
          "data": {
            "text/plain": [
              "(Index(['age'], dtype='object'), Index([], dtype='object'))"
            ]
          },
          "execution_count": 9,
          "metadata": {},
          "output_type": "execute_result"
        }
      ],
      "source": [
        "train_df.columns[train_df.isnull().any()], test_df.columns[test_df.isnull().any()]"
      ]
    },
    {
      "cell_type": "code",
      "execution_count": 10,
      "metadata": {
        "id": "Rm96YeIzKsrZ"
      },
      "outputs": [],
      "source": [
        "train_df.fillna(train_df.median(), inplace=True)"
      ]
    },
    {
      "cell_type": "markdown",
      "metadata": {
        "id": "OjYQvmY6Ipps"
      },
      "source": [
        "# Exploratory Data Analysis"
      ]
    },
    {
      "cell_type": "markdown",
      "metadata": {
        "id": "VSbE6yYaNYAe"
      },
      "source": [
        "##sex vs default"
      ]
    },
    {
      "cell_type": "code",
      "execution_count": 11,
      "metadata": {
        "colab": {
          "base_uri": "https://localhost:8080/",
          "height": 0
        },
        "id": "wa5D1tjIHcIr",
        "outputId": "ccc88526-5835-4d66-e8b2-d0a581f702c7"
      },
      "outputs": [
        {
          "data": {
            "image/png": "[encoded data removed]",
            "text/plain": [
              "<Figure size 640x480 with 1 Axes>"
            ]
          },
          "metadata": {},
          "output_type": "display_data"
        }
      ],
      "source": [
        "plot_df = train_df.assign(sex=train_df['sex'].map({1: 'Male', 0: 'Female'}))\n",
        "plot_df['next_month_default'] = train_df['next_month_default']  # Add target column to same df\n",
        "\n",
        "# Plot\n",
        "sbn.countplot(data=plot_df, x='sex', hue='next_month_default')\n",
        "plt.title(\"Default Count by Gender\")\n",
        "plt.xlabel(\"Sex\")\n",
        "plt.ylabel(\"Count\")\n",
        "plt.legend(title=\"Default (1=Yes, 0=No)\")\n",
        "plt.show()"
      ]
    },
    {
      "cell_type": "markdown",
      "metadata": {
        "id": "EfwO97RkOQm0"
      },
      "source": [
        "##age vs default"
      ]
    },
    {
      "cell_type": "code",
      "execution_count": 12,
      "metadata": {
        "colab": {
          "base_uri": "https://localhost:8080/",
          "height": 0
        },
        "id": "7VNeaUrWMkCy",
        "outputId": "6d76f495-870b-4564-e7cd-01540fb01978"
      },
      "outputs": [
        {
          "data": {
            "image/png": "[encoded data removed]",
            "text/plain": [
              "<Figure size 1000x600 with 1 Axes>"
            ]
          },
          "metadata": {},
          "output_type": "display_data"
        }
      ],
      "source": [
        "plt.figure(figsize=(10, 6))\n",
        "\n",
        "# Distribution for Non-Defaulters\n",
        "sbn.histplot(train_df[train_df['next_month_default'] == 0]['age'],\n",
        "             kde=True, color='green', label='No Default', stat='density', alpha=0.6)\n",
        "\n",
        "# Distribution for Defaulters\n",
        "sbn.histplot(train_df[train_df['next_month_default'] == 1]['age'],\n",
        "             kde=True, color='yellow', label='Default', stat='density', alpha=0.6)\n",
        "\n",
        "# Plot settings\n",
        "plt.title('Distribution of Age by Default Status')\n",
        "plt.xlabel('Age')\n",
        "plt.ylabel('Density')\n",
        "plt.legend()\n",
        "plt.grid(True)\n",
        "plt.show()\n"
      ]
    },
    {
      "cell_type": "markdown",
      "metadata": {
        "id": "uhCL7zGSPNJe"
      },
      "source": [
        "##Split Violin Plot of Limit Balance by Default Status and Sex"
      ]
    },
    {
      "cell_type": "code",
      "execution_count": 13,
      "metadata": {
        "colab": {
          "base_uri": "https://localhost:8080/",
          "height": 0
        },
        "id": "0aVuhthwNSz1",
        "outputId": "154422ee-5413-487c-f438-01d6c08ce8cd"
      },
      "outputs": [
        {
          "data": {
            "image/png": "[encoded data removed]",
            "text/plain": [
              "<Figure size 1000x600 with 1 Axes>"
            ]
          },
          "metadata": {},
          "output_type": "display_data"
        }
      ],
      "source": [
        "plot_df = train_df.copy()\n",
        "plot_df['sex'] = plot_df['sex'].map({0: 'Female', 1: 'Male'})\n",
        "\n",
        "plt.figure(figsize=(10, 6))\n",
        "sbn.violinplot(\n",
        "    data=plot_df,\n",
        "    x=\"next_month_default\",\n",
        "    y=\"LIMIT_BAL\",\n",
        "    hue=\"sex\",\n",
        "    split=True,\n",
        "    palette={\"Male\": \"blue\", \"Female\": \"red\"}\n",
        ")\n",
        "\n",
        "plt.title(\"Split Violin Plot of Limit Balance by Default Status and Sex\")\n",
        "plt.xlabel(\"Default (0=No,1=Yes)\")\n",
        "plt.ylabel(\"Limit Balance\")\n",
        "plt.legend(title=\"Sex\")\n",
        "plt.grid(True)\n",
        "plt.show()\n"
      ]
    },
    {
      "cell_type": "markdown",
      "metadata": {
        "id": "AQSFby-uFVpI"
      },
      "source": [
        "##Payment Delays"
      ]
    },
    {
      "cell_type": "code",
      "execution_count": 14,
      "metadata": {
        "colab": {
          "base_uri": "https://localhost:8080/",
          "height": 0
        },
        "id": "OqO2kpHUBTXz",
        "outputId": "891e7b56-2734-4662-fe2f-b533c69bb0e1"
      },
      "outputs": [
        {
          "name": "stderr",
          "output_type": "stream",
          "text": [
            "<ipython-input-14-2391177991>:13: FutureWarning: \n",
            "\n",
            "Passing `palette` without assigning `hue` is deprecated and will be removed in v0.14.0. Assign the `x` variable to `hue` and set `legend=False` for the same effect.\n",
            "\n",
            "  sbn.barplot(x=x_vals, y=y_vals, palette='flare')\n"
          ]
        },
        {
          "data": {
            "image/png": "[encoded data removed]",
            "text/plain": [
              "<Figure size 800x400 with 1 Axes>"
            ]
          },
          "metadata": {},
          "output_type": "display_data"
        }
      ],
      "source": [
        "pay_cols = [f'pay_{i}' for i in [1, 2, 3, 4, 5, 6]]\n",
        "\n",
        "delay_counter = Counter()\n",
        "for col in pay_cols:\n",
        "    col_counts = train_df[col].value_counts()\n",
        "    for delay_val in range(1, 7):  # Only 1 to 6\n",
        "        delay_counter[delay_val] += col_counts.get(delay_val, 0)\n",
        "\n",
        "x_vals = list(range(1, 7))\n",
        "y_vals = [delay_counter[d] for d in x_vals]\n",
        "\n",
        "plt.figure(figsize=(8, 4))\n",
        "sbn.barplot(x=x_vals, y=y_vals, palette='flare')\n",
        "plt.title('Count of Positive Payment Delays (1 to 6 months late)')\n",
        "plt.xlabel('Delay Group (Months Late)')\n",
        "plt.ylabel('Total Number of Delay Records')\n",
        "plt.grid(True)\n",
        "plt.show()\n"
      ]
    },
    {
      "cell_type": "markdown",
      "metadata": {
        "id": "MwWMviL1Fk_9"
      },
      "source": [
        "##repayment consistency"
      ]
    },
    {
      "cell_type": "code",
      "execution_count": 15,
      "metadata": {
        "colab": {
          "base_uri": "https://localhost:8080/",
          "height": 0
        },
        "id": "Dv_MLMD9BwsH",
        "outputId": "3bb76f1b-99cb-48d8-cc8b-d40a127c37fa"
      },
      "outputs": [
        {
          "name": "stderr",
          "output_type": "stream",
          "text": [
            "<ipython-input-15-3312492025>:4: FutureWarning: \n",
            "\n",
            "Passing `palette` without assigning `hue` is deprecated and will be removed in v0.14.0. Assign the `x` variable to `hue` and set `legend=False` for the same effect.\n",
            "\n",
            "  sbn.barplot(\n"
          ]
        },
        {
          "data": {
            "image/png": "[encoded data removed]",
            "text/plain": [
              "<Figure size 600x400 with 1 Axes>"
            ]
          },
          "metadata": {},
          "output_type": "display_data"
        }
      ],
      "source": [
        "repay_cols = [f'pay_amt{i}' for i in range(1, 7)]\n",
        "\n",
        "plt.figure(figsize=(6, 4))\n",
        "sbn.barplot(\n",
        "    x=train_df['next_month_default'],\n",
        "    y=train_df[repay_cols].std(axis=1),\n",
        "    palette='mako'\n",
        ")\n",
        "plt.title('Repayment Consistency (Std Dev of Amounts)')\n",
        "plt.xlabel('Default')\n",
        "plt.ylabel('Repayment Variability')\n",
        "plt.grid(True)\n",
        "plt.show()"
      ]
    },
    {
      "cell_type": "markdown",
      "metadata": {
        "id": "3BT0sU87Qg4t"
      },
      "source": [
        "##Highly co-related features(corr>.9)"
      ]
    },
    {
      "cell_type": "code",
      "execution_count": 16,
      "metadata": {
        "colab": {
          "base_uri": "https://localhost:8080/"
        },
        "id": "oG680fItQRw0",
        "outputId": "129bb3f1-a3e1-498d-fdbf-f0f0afc856a3"
      },
      "outputs": [
        {
          "name": "stdout",
          "output_type": "stream",
          "text": [
            "Highly Correlated Feature Pairs (|corr| > 0.9):\n",
            "Bill_amt2 ↔ Bill_amt1  =>  Correlation: 0.95\n",
            "Bill_amt3 ↔ Bill_amt2  =>  Correlation: 0.93\n",
            "Bill_amt4 ↔ Bill_amt3  =>  Correlation: 0.92\n",
            "Bill_amt5 ↔ Bill_amt4  =>  Correlation: 0.94\n",
            "Bill_amt6 ↔ Bill_amt4  =>  Correlation: 0.90\n",
            "Bill_amt6 ↔ Bill_amt5  =>  Correlation: 0.95\n",
            "AVG_Bill_amt ↔ Bill_amt1  =>  Correlation: 0.94\n",
            "AVG_Bill_amt ↔ Bill_amt2  =>  Correlation: 0.96\n",
            "AVG_Bill_amt ↔ Bill_amt3  =>  Correlation: 0.96\n",
            "AVG_Bill_amt ↔ Bill_amt4  =>  Correlation: 0.97\n",
            "AVG_Bill_amt ↔ Bill_amt5  =>  Correlation: 0.95\n",
            "AVG_Bill_amt ↔ Bill_amt6  =>  Correlation: 0.93\n"
          ]
        }
      ],
      "source": [
        "corr_matrix = train_df.corr()\n",
        "upper = corr_matrix.where(np.triu(np.ones(corr_matrix.shape), k=1).astype(bool))\n",
        "\n",
        "threshold = 0.9\n",
        "high_corr_pairs = [\n",
        "    (col, row, upper.loc[row, col])\n",
        "    for col in upper.columns\n",
        "    for row in upper.index\n",
        "    if(upper.loc[row, col]) > threshold\n",
        "]\n",
        "\n",
        "print(f\"Highly Correlated Feature Pairs (|corr| > {threshold}):\")\n",
        "for col1, col2, corr_val in high_corr_pairs:\n",
        "    print(f\"{col1} ↔ {col2}  =>  Correlation: {corr_val:.2f}\")"
      ]
    },
    {
      "cell_type": "markdown",
      "metadata": {
        "id": "CamIAGVURgLK"
      },
      "source": [
        "#Feature Engineering"
      ]
    },
    {
      "cell_type": "markdown",
      "metadata": {
        "id": "KIqQ2iMLSCMJ"
      },
      "source": [
        "##credit utilization"
      ]
    },
    {
      "cell_type": "code",
      "execution_count": 17,
      "metadata": {
        "id": "VX7h_MweRjaW"
      },
      "outputs": [],
      "source": [
        "train_df['credit_utilization'] = train_df[[f'Bill_amt{i}' for i in range(1, 7)]].mean(axis=1) / (train_df['LIMIT_BAL'] + 1)\n",
        "test_df['credit_utilization'] = test_df[[f'Bill_amt{i}' for i in range(1, 7)]].mean(axis=1) / (test_df['LIMIT_BAL'] + 1)"
      ]
    },
    {
      "cell_type": "markdown",
      "metadata": {
        "id": "bRliM4hpTHJu"
      },
      "source": [
        "##max and avg delay"
      ]
    },
    {
      "cell_type": "code",
      "execution_count": 18,
      "metadata": {
        "id": "ooyd16egSEhD"
      },
      "outputs": [],
      "source": [
        "pay_cols = ['pay_1', 'pay_2', 'pay_3', 'pay_4', 'pay_5', 'pay_6']\n",
        "\n",
        "train_df['max_delay'] = train_df[pay_cols].max(axis=1)\n",
        "train_df['avg_delay'] = train_df[pay_cols].mean(axis=1)\n",
        "\n",
        "test_df['max_delay'] = test_df[pay_cols].max(axis=1)\n",
        "test_df['avg_delay'] = test_df[pay_cols].mean(axis=1)"
      ]
    },
    {
      "cell_type": "markdown",
      "metadata": {
        "id": "Rm-OC7W_GAJU"
      },
      "source": [
        "##delinquency streaks"
      ]
    },
    {
      "cell_type": "code",
      "execution_count": 19,
      "metadata": {
        "id": "Fi18xK5BGDug"
      },
      "outputs": [],
      "source": [
        "def max_delinquency_streak(row):\n",
        "    streak = max_streak = 0\n",
        "    for val in row:\n",
        "        if val > 0:\n",
        "            streak += 1\n",
        "            max_streak = max(max_streak, streak)\n",
        "        else:\n",
        "            streak = 0\n",
        "    return max_streak\n",
        "\n",
        "pay_cols = [f'pay_{i}' for i in [1, 2, 3, 4, 5, 6]]\n",
        "\n",
        "# Longest continuous delinquency\n",
        "train_df['max_delinquency_streak'] = train_df[pay_cols].apply(max_delinquency_streak, axis=1)\n",
        "test_df['max_delinquency_streak'] = test_df[pay_cols].apply(max_delinquency_streak, axis=1)\n",
        "\n",
        "# Total delinquent months\n",
        "train_df['total_delinquent_months'] = (train_df[pay_cols] > 0).sum(axis=1)\n",
        "test_df['total_delinquent_months'] = (test_df[pay_cols] > 0).sum(axis=1)"
      ]
    },
    {
      "cell_type": "code",
      "execution_count": 20,
      "metadata": {
        "colab": {
          "base_uri": "https://localhost:8080/",
          "height": 0
        },
        "id": "L7qugXvRGaKC",
        "outputId": "ac2b470d-6828-41f2-8821-12e7f9ff0233"
      },
      "outputs": [
        {
          "name": "stderr",
          "output_type": "stream",
          "text": [
            "<ipython-input-20-492501368>:2: FutureWarning: \n",
            "\n",
            "Passing `palette` without assigning `hue` is deprecated and will be removed in v0.14.0. Assign the `x` variable to `hue` and set `legend=False` for the same effect.\n",
            "\n",
            "  sbn.barplot(data=train_df, x='next_month_default', y='max_delinquency_streak', palette='magma')\n"
          ]
        },
        {
          "data": {
            "image/png": "[encoded data removed]",
            "text/plain": [
              "<Figure size 600x400 with 1 Axes>"
            ]
          },
          "metadata": {},
          "output_type": "display_data"
        }
      ],
      "source": [
        "plt.figure(figsize=(6, 4))\n",
        "sbn.barplot(data=train_df, x='next_month_default', y='max_delinquency_streak', palette='magma')\n",
        "plt.title('Max Delinquency Streak vs Default')\n",
        "plt.xlabel('Default (0 = No, 1 = Yes)')\n",
        "plt.ylabel('Max Consecutive Delays')\n",
        "plt.grid(True)\n",
        "plt.show()"
      ]
    },
    {
      "cell_type": "code",
      "execution_count": 21,
      "metadata": {
        "colab": {
          "base_uri": "https://localhost:8080/",
          "height": 0
        },
        "id": "ZrWz0BU1Gmto",
        "outputId": "10973a34-f51c-4c8b-b1d1-a1d45577ffff"
      },
      "outputs": [
        {
          "name": "stderr",
          "output_type": "stream",
          "text": [
            "<ipython-input-21-1231327201>:2: FutureWarning: \n",
            "\n",
            "Passing `palette` without assigning `hue` is deprecated and will be removed in v0.14.0. Assign the `x` variable to `hue` and set `legend=False` for the same effect.\n",
            "\n",
            "  sbn.barplot(data=train_df, x='next_month_default', y='total_delinquent_months', palette='coolwarm')\n"
          ]
        },
        {
          "data": {
            "image/png": "[encoded data removed]",
            "text/plain": [
              "<Figure size 600x400 with 1 Axes>"
            ]
          },
          "metadata": {},
          "output_type": "display_data"
        }
      ],
      "source": [
        "plt.figure(figsize=(6, 4))\n",
        "sbn.barplot(data=train_df, x='next_month_default', y='total_delinquent_months', palette='coolwarm')\n",
        "plt.title('Total Delinquent Months vs Default')\n",
        "plt.xlabel('Default (0 = No, 1 = Yes)')\n",
        "plt.ylabel('Total Late Months (pay_x > 0)')\n",
        "plt.grid(True)\n",
        "plt.show()"
      ]
    },
    {
      "cell_type": "markdown",
      "metadata": {
        "id": "kB1rpC4GW_o8"
      },
      "source": [
        "#Data Preprocessing"
      ]
    },
    {
      "cell_type": "markdown",
      "metadata": {
        "id": "Bb4oIF-wTO5d"
      },
      "source": [
        "##removing Bill_amt cols(they are highly correlated with avg_bill_amt"
      ]
    },
    {
      "cell_type": "code",
      "execution_count": 22,
      "metadata": {
        "id": "cbteu_V-TLwx"
      },
      "outputs": [],
      "source": [
        "drop_cols = [f'Bill_amt{i}' for i in range(1, 7)]\n",
        "\n",
        "train_df.drop(columns=drop_cols, inplace=True)\n",
        "test_df.drop(columns=drop_cols, inplace=True)"
      ]
    },
    {
      "cell_type": "markdown",
      "metadata": {
        "id": "nsQFK1unXLid"
      },
      "source": [
        "##preparing train and test data"
      ]
    },
    {
      "cell_type": "code",
      "execution_count": 23,
      "metadata": {
        "id": "YwfWLOtwXOZD"
      },
      "outputs": [],
      "source": [
        "target_col = 'next_month_default'\n",
        "id_col = 'Customer_ID'\n",
        "\n",
        "X = train_df.drop([target_col, id_col], axis=1)\n",
        "y = train_df[target_col]\n",
        "\n",
        "test_X = test_df.drop(columns=[id_col])"
      ]
    },
    {
      "cell_type": "markdown",
      "metadata": {
        "id": "qEaj4JFTdhUI"
      },
      "source": [
        "##data scaling"
      ]
    },
    {
      "cell_type": "code",
      "execution_count": 24,
      "metadata": {
        "id": "zz1asmlhdjIO"
      },
      "outputs": [],
      "source": [
        "scaler = StandardScaler()\n",
        "X = scaler.fit_transform(X)\n",
        "test_X = scaler.transform(test_X)"
      ]
    },
    {
      "cell_type": "markdown",
      "metadata": {
        "id": "FKam0w7Zd16O"
      },
      "source": [
        "##data balancing using SMOTE (Synthetic Minority Oversampling Technique)"
      ]
    },
    {
      "cell_type": "code",
      "execution_count": 25,
      "metadata": {
        "id": "PUJM-O-Vdvg8"
      },
      "outputs": [],
      "source": [
        "sm = SMOTE(random_state=rs)\n",
        "X, y = sm.fit_resample(X, y)"
      ]
    },
    {
      "cell_type": "markdown",
      "metadata": {
        "id": "tkOPjWW_dJw1"
      },
      "source": [
        "##splitting train data into train-val(80-20)"
      ]
    },
    {
      "cell_type": "code",
      "execution_count": 26,
      "metadata": {
        "id": "ZGPuMj6dc_yN"
      },
      "outputs": [],
      "source": [
        "X_train, X_val, y_train, y_val = train_test_split(X, y, test_size=0.2, random_state=rs)"
      ]
    },
    {
      "cell_type": "markdown",
      "metadata": {
        "id": "2Pdl8kqgeGuA"
      },
      "source": [
        "#Training and Evaluating Models"
      ]
    },
    {
      "cell_type": "markdown",
      "metadata": {
        "id": "JBCjZQ5N95re"
      },
      "source": [
        "##Logistic Regression"
      ]
    },
    {
      "cell_type": "code",
      "execution_count": 27,
      "metadata": {
        "colab": {
          "base_uri": "https://localhost:8080/"
        },
        "id": "zRBWK0MY98us",
        "outputId": "9b637ce5-12b5-4227-c560-c8824de63e96"
      },
      "outputs": [
        {
          "name": "stdout",
          "output_type": "stream",
          "text": [
            "📘 Logistic Regression Evaluation:\n",
            "🔹 Accuracy:  0.7032\n",
            "🔹 Precision: 0.7621\n",
            "🔹 F1 Score:  0.6805\n",
            "🔹 F2 Score:  0.6395\n",
            "🔹 AUC-ROC:   0.7673\n"
          ]
        }
      ],
      "source": [
        "# Fit Logistic Regression\n",
        "logreg_model = LogisticRegression(max_iter=1000, random_state=rs)\n",
        "logreg_model.fit(X_train, y_train)\n",
        "\n",
        "# Predict on validation data\n",
        "logreg_preds = logreg_model.predict(X_val)\n",
        "logreg_probs = logreg_model.predict_proba(X_val)[:, 1]\n",
        "\n",
        "# Evaluate\n",
        "print(\"📘 Logistic Regression Evaluation:\")\n",
        "print(f\"🔹 Accuracy:  {accuracy_score(y_val, logreg_preds):.4f}\")\n",
        "print(f\"🔹 Precision: {precision_score(y_val, logreg_preds):.4f}\")\n",
        "print(f\"🔹 F1 Score:  {f1_score(y_val, logreg_preds):.4f}\")\n",
        "print(f\"🔹 F2 Score:  {fbeta_score(y_val, logreg_preds, beta=2):.4f}\")\n",
        "print(f\"🔹 AUC-ROC:   {roc_auc_score(y_val, logreg_probs):.4f}\")\n"
      ]
    },
    {
      "cell_type": "markdown",
      "metadata": {
        "id": "hAdGRNcNN81z"
      },
      "source": [
        "On whole train data"
      ]
    },
    {
      "cell_type": "code",
      "execution_count": 28,
      "metadata": {
        "colab": {
          "base_uri": "https://localhost:8080/"
        },
        "id": "4QtAKy96OAXM",
        "outputId": "a3d13372-352b-409d-a20b-ba3c3ace1cf3"
      },
      "outputs": [
        {
          "name": "stdout",
          "output_type": "stream",
          "text": [
            "📘 Logistic Regression Evaluation:\n",
            "🔹 Accuracy:  0.7008\n",
            "🔹 Precision: 0.7471\n",
            "🔹 F1 Score:  0.6698\n",
            "🔹 F2 Score:  0.6307\n",
            "🔹 AUC-ROC:   0.7588\n"
          ]
        }
      ],
      "source": [
        "#Predict\n",
        "logreg_preds = logreg_model.predict(X)\n",
        "logreg_probs = logreg_model.predict_proba(X)[:, 1]\n",
        "\n",
        "# Evaluate\n",
        "print(\"📘 Logistic Regression Evaluation:\")\n",
        "print(f\"🔹 Accuracy:  {accuracy_score(y, logreg_preds):.4f}\")\n",
        "print(f\"🔹 Precision: {precision_score(y, logreg_preds):.4f}\")\n",
        "print(f\"🔹 F1 Score:  {f1_score(y, logreg_preds):.4f}\")\n",
        "print(f\"🔹 F2 Score:  {fbeta_score(y, logreg_preds, beta=2):.4f}\")\n",
        "print(f\"🔹 AUC-ROC:   {roc_auc_score(y, logreg_probs):.4f}\")"
      ]
    },
    {
      "cell_type": "markdown",
      "metadata": {
        "id": "ADv2pzKR-Bza"
      },
      "source": [
        "##Decision Trees"
      ]
    },
    {
      "cell_type": "code",
      "execution_count": 29,
      "metadata": {
        "colab": {
          "base_uri": "https://localhost:8080/"
        },
        "id": "xRFphYMe-EUL",
        "outputId": "e9365cb8-04cb-424f-cb0d-ef4a22d07719"
      },
      "outputs": [
        {
          "name": "stdout",
          "output_type": "stream",
          "text": [
            "\n",
            "📘 Decision Tree Evaluation:\n",
            "🔹 Accuracy:  0.7873\n",
            "🔹 Precision: 0.8058\n",
            "🔹 F1 Score:  0.7889\n",
            "🔹 F2 Score:  0.7791\n",
            "🔹 AUC-ROC:   0.8418\n"
          ]
        }
      ],
      "source": [
        "# Fit Decision Tree\n",
        "tree_model = DecisionTreeClassifier(max_depth=12, random_state=rs)\n",
        "tree_model.fit(X_train, y_train)\n",
        "\n",
        "# Predict on validation data\n",
        "tree_preds = tree_model.predict(X_val)\n",
        "tree_probs = tree_model.predict_proba(X_val)[:, 1]\n",
        "\n",
        "# Evaluate\n",
        "print(\"\\n📘 Decision Tree Evaluation:\")\n",
        "print(f\"🔹 Accuracy:  {accuracy_score(y_val, tree_preds):.4f}\")\n",
        "print(f\"🔹 Precision: {precision_score(y_val, tree_preds):.4f}\")\n",
        "print(f\"🔹 F1 Score:  {f1_score(y_val, tree_preds):.4f}\")\n",
        "print(f\"🔹 F2 Score:  {fbeta_score(y_val, tree_preds, beta=2):.4f}\")\n",
        "print(f\"🔹 AUC-ROC:   {roc_auc_score(y_val, tree_probs):.4f}\")"
      ]
    },
    {
      "cell_type": "markdown",
      "metadata": {
        "id": "FsJP20YlOSHO"
      },
      "source": [
        "On whole train data"
      ]
    },
    {
      "cell_type": "code",
      "execution_count": 30,
      "metadata": {
        "colab": {
          "base_uri": "https://localhost:8080/"
        },
        "id": "IFCc61DRORhr",
        "outputId": "8113083e-ad44-4e3e-9ba3-56e9fd418c9e"
      },
      "outputs": [
        {
          "name": "stdout",
          "output_type": "stream",
          "text": [
            "\n",
            "📘 Decision Tree Evaluation:\n",
            "🔹 Accuracy:  0.8406\n",
            "🔹 Precision: 0.8484\n",
            "🔹 F1 Score:  0.8388\n",
            "🔹 F2 Score:  0.8331\n",
            "🔹 AUC-ROC:   0.9158\n"
          ]
        }
      ],
      "source": [
        "# Predict\n",
        "tree_preds = tree_model.predict(X)\n",
        "tree_probs = tree_model.predict_proba(X)[:, 1]\n",
        "\n",
        "# Evaluate\n",
        "print(\"\\n📘 Decision Tree Evaluation:\")\n",
        "print(f\"🔹 Accuracy:  {accuracy_score(y, tree_preds):.4f}\")\n",
        "print(f\"🔹 Precision: {precision_score(y, tree_preds):.4f}\")\n",
        "print(f\"🔹 F1 Score:  {f1_score(y, tree_preds):.4f}\")\n",
        "print(f\"🔹 F2 Score:  {fbeta_score(y, tree_preds, beta=2):.4f}\")\n",
        "print(f\"🔹 AUC-ROC:   {roc_auc_score(y, tree_probs):.4f}\")"
      ]
    },
    {
      "cell_type": "markdown",
      "metadata": {
        "id": "bXq_oCAFeMVd"
      },
      "source": [
        "##SVM"
      ]
    },
    {
      "cell_type": "code",
      "execution_count": 31,
      "metadata": {
        "colab": {
          "base_uri": "https://localhost:8080/",
          "height": 0
        },
        "id": "oh31TnKPd6u1",
        "outputId": "f8dcae9b-b9f3-457e-f6c9-25a0cb755597"
      },
      "outputs": [
        {
          "data": {
            "text/html": [
              "<style>#sk-container-id-1 {\n",
              "  /* Definition of color scheme common for light and dark mode */\n",
              "  --sklearn-color-text: #000;\n",
              "  --sklearn-color-text-muted: #666;\n",
              "  --sklearn-color-line: gray;\n",
              "  /* Definition of color scheme for unfitted estimators */\n",
              "  --sklearn-color-unfitted-level-0: #fff5e6;\n",
              "  --sklearn-color-unfitted-level-1: #f6e4d2;\n",
              "  --sklearn-color-unfitted-level-2: #ffe0b3;\n",
              "  --sklearn-color-unfitted-level-3: chocolate;\n",
              "  /* Definition of color scheme for fitted estimators */\n",
              "  --sklearn-color-fitted-level-0: #f0f8ff;\n",
              "  --sklearn-color-fitted-level-1: #d4ebff;\n",
              "  --sklearn-color-fitted-level-2: #b3dbfd;\n",
              "  --sklearn-color-fitted-level-3: cornflowerblue;\n",
              "\n",
              "  /* Specific color for light theme */\n",
              "  --sklearn-color-text-on-default-background: var(--sg-text-color, var(--theme-code-foreground, var(--jp-content-font-color1, black)));\n",
              "  --sklearn-color-background: var(--sg-background-color, var(--theme-background, var(--jp-layout-color0, white)));\n",
              "  --sklearn-color-border-box: var(--sg-text-color, var(--theme-code-foreground, var(--jp-content-font-color1, black)));\n",
              "  --sklearn-color-icon: #696969;\n",
              "\n",
              "  @media (prefers-color-scheme: dark) {\n",
              "    /* Redefinition of color scheme for dark theme */\n",
              "    --sklearn-color-text-on-default-background: var(--sg-text-color, var(--theme-code-foreground, var(--jp-content-font-color1, white)));\n",
              "    --sklearn-color-background: var(--sg-background-color, var(--theme-background, var(--jp-layout-color0, #111)));\n",
              "    --sklearn-color-border-box: var(--sg-text-color, var(--theme-code-foreground, var(--jp-content-font-color1, white)));\n",
              "    --sklearn-color-icon: #878787;\n",
              "  }\n",
              "}\n",
              "\n",
              "#sk-container-id-1 {\n",
              "  color: var(--sklearn-color-text);\n",
              "}\n",
              "\n",
              "#sk-container-id-1 pre {\n",
              "  padding: 0;\n",
              "}\n",
              "\n",
              "#sk-container-id-1 input.sk-hidden--visually {\n",
              "  border: 0;\n",
              "  clip: rect(1px 1px 1px 1px);\n",
              "  clip: rect(1px, 1px, 1px, 1px);\n",
              "  height: 1px;\n",
              "  margin: -1px;\n",
              "  overflow: hidden;\n",
              "  padding: 0;\n",
              "  position: absolute;\n",
              "  width: 1px;\n",
              "}\n",
              "\n",
              "#sk-container-id-1 div.sk-dashed-wrapped {\n",
              "  border: 1px dashed var(--sklearn-color-line);\n",
              "  margin: 0 0.4em 0.5em 0.4em;\n",
              "  box-sizing: border-box;\n",
              "  padding-bottom: 0.4em;\n",
              "  background-color: var(--sklearn-color-background);\n",
              "}\n",
              "\n",
              "#sk-container-id-1 div.sk-container {\n",
              "  /* jupyter's `normalize.less` sets `[hidden] { display: none; }`\n",
              "     but bootstrap.min.css set `[hidden] { display: none !important; }`\n",
              "     so we also need the `!important` here to be able to override the\n",
              "     default hidden behavior on the sphinx rendered scikit-learn.org.\n",
              "     See: https://github.com/scikit-learn/scikit-learn/issues/21755 */\n",
              "  display: inline-block !important;\n",
              "  position: relative;\n",
              "}\n",
              "\n",
              "#sk-container-id-1 div.sk-text-repr-fallback {\n",
              "  display: none;\n",
              "}\n",
              "\n",
              "div.sk-parallel-item,\n",
              "div.sk-serial,\n",
              "div.sk-item {\n",
              "  /* draw centered vertical line to link estimators */\n",
              "  background-image: linear-gradient(var(--sklearn-color-text-on-default-background), var(--sklearn-color-text-on-default-background));\n",
              "  background-size: 2px 100%;\n",
              "  background-repeat: no-repeat;\n",
              "  background-position: center center;\n",
              "}\n",
              "\n",
              "/* Parallel-specific style estimator block */\n",
              "\n",
              "#sk-container-id-1 div.sk-parallel-item::after {\n",
              "  content: \"\";\n",
              "  width: 100%;\n",
              "  border-bottom: 2px solid var(--sklearn-color-text-on-default-background);\n",
              "  flex-grow: 1;\n",
              "}\n",
              "\n",
              "#sk-container-id-1 div.sk-parallel {\n",
              "  display: flex;\n",
              "  align-items: stretch;\n",
              "  justify-content: center;\n",
              "  background-color: var(--sklearn-color-background);\n",
              "  position: relative;\n",
              "}\n",
              "\n",
              "#sk-container-id-1 div.sk-parallel-item {\n",
              "  display: flex;\n",
              "  flex-direction: column;\n",
              "}\n",
              "\n",
              "#sk-container-id-1 div.sk-parallel-item:first-child::after {\n",
              "  align-self: flex-end;\n",
              "  width: 50%;\n",
              "}\n",
              "\n",
              "#sk-container-id-1 div.sk-parallel-item:last-child::after {\n",
              "  align-self: flex-start;\n",
              "  width: 50%;\n",
              "}\n",
              "\n",
              "#sk-container-id-1 div.sk-parallel-item:only-child::after {\n",
              "  width: 0;\n",
              "}\n",
              "\n",
              "/* Serial-specific style estimator block */\n",
              "\n",
              "#sk-container-id-1 div.sk-serial {\n",
              "  display: flex;\n",
              "  flex-direction: column;\n",
              "  align-items: center;\n",
              "  background-color: var(--sklearn-color-background);\n",
              "  padding-right: 1em;\n",
              "  padding-left: 1em;\n",
              "}\n",
              "\n",
              "\n",
              "/* Toggleable style: style used for estimator/Pipeline/ColumnTransformer box that is\n",
              "clickable and can be expanded/collapsed.\n",
              "- Pipeline and ColumnTransformer use this feature and define the default style\n",
              "- Estimators will overwrite some part of the style using the `sk-estimator` class\n",
              "*/\n",
              "\n",
              "/* Pipeline and ColumnTransformer style (default) */\n",
              "\n",
              "#sk-container-id-1 div.sk-toggleable {\n",
              "  /* Default theme specific background. It is overwritten whether we have a\n",
              "  specific estimator or a Pipeline/ColumnTransformer */\n",
              "  background-color: var(--sklearn-color-background);\n",
              "}\n",
              "\n",
              "/* Toggleable label */\n",
              "#sk-container-id-1 label.sk-toggleable__label {\n",
              "  cursor: pointer;\n",
              "  display: flex;\n",
              "  width: 100%;\n",
              "  margin-bottom: 0;\n",
              "  padding: 0.5em;\n",
              "  box-sizing: border-box;\n",
              "  text-align: center;\n",
              "  align-items: start;\n",
              "  justify-content: space-between;\n",
              "  gap: 0.5em;\n",
              "}\n",
              "\n",
              "#sk-container-id-1 label.sk-toggleable__label .caption {\n",
              "  font-size: 0.6rem;\n",
              "  font-weight: lighter;\n",
              "  color: var(--sklearn-color-text-muted);\n",
              "}\n",
              "\n",
              "#sk-container-id-1 label.sk-toggleable__label-arrow:before {\n",
              "  /* Arrow on the left of the label */\n",
              "  content: \"▸\";\n",
              "  float: left;\n",
              "  margin-right: 0.25em;\n",
              "  color: var(--sklearn-color-icon);\n",
              "}\n",
              "\n",
              "#sk-container-id-1 label.sk-toggleable__label-arrow:hover:before {\n",
              "  color: var(--sklearn-color-text);\n",
              "}\n",
              "\n",
              "/* Toggleable content - dropdown */\n",
              "\n",
              "#sk-container-id-1 div.sk-toggleable__content {\n",
              "  max-height: 0;\n",
              "  max-width: 0;\n",
              "  overflow: hidden;\n",
              "  text-align: left;\n",
              "  /* unfitted */\n",
              "  background-color: var(--sklearn-color-unfitted-level-0);\n",
              "}\n",
              "\n",
              "#sk-container-id-1 div.sk-toggleable__content.fitted {\n",
              "  /* fitted */\n",
              "  background-color: var(--sklearn-color-fitted-level-0);\n",
              "}\n",
              "\n",
              "#sk-container-id-1 div.sk-toggleable__content pre {\n",
              "  margin: 0.2em;\n",
              "  border-radius: 0.25em;\n",
              "  color: var(--sklearn-color-text);\n",
              "  /* unfitted */\n",
              "  background-color: var(--sklearn-color-unfitted-level-0);\n",
              "}\n",
              "\n",
              "#sk-container-id-1 div.sk-toggleable__content.fitted pre {\n",
              "  /* unfitted */\n",
              "  background-color: var(--sklearn-color-fitted-level-0);\n",
              "}\n",
              "\n",
              "#sk-container-id-1 input.sk-toggleable__control:checked~div.sk-toggleable__content {\n",
              "  /* Expand drop-down */\n",
              "  max-height: 200px;\n",
              "  max-width: 100%;\n",
              "  overflow: auto;\n",
              "}\n",
              "\n",
              "#sk-container-id-1 input.sk-toggleable__control:checked~label.sk-toggleable__label-arrow:before {\n",
              "  content: \"▾\";\n",
              "}\n",
              "\n",
              "/* Pipeline/ColumnTransformer-specific style */\n",
              "\n",
              "#sk-container-id-1 div.sk-label input.sk-toggleable__control:checked~label.sk-toggleable__label {\n",
              "  color: var(--sklearn-color-text);\n",
              "  background-color: var(--sklearn-color-unfitted-level-2);\n",
              "}\n",
              "\n",
              "#sk-container-id-1 div.sk-label.fitted input.sk-toggleable__control:checked~label.sk-toggleable__label {\n",
              "  background-color: var(--sklearn-color-fitted-level-2);\n",
              "}\n",
              "\n",
              "/* Estimator-specific style */\n",
              "\n",
              "/* Colorize estimator box */\n",
              "#sk-container-id-1 div.sk-estimator input.sk-toggleable__control:checked~label.sk-toggleable__label {\n",
              "  /* unfitted */\n",
              "  background-color: var(--sklearn-color-unfitted-level-2);\n",
              "}\n",
              "\n",
              "#sk-container-id-1 div.sk-estimator.fitted input.sk-toggleable__control:checked~label.sk-toggleable__label {\n",
              "  /* fitted */\n",
              "  background-color: var(--sklearn-color-fitted-level-2);\n",
              "}\n",
              "\n",
              "#sk-container-id-1 div.sk-label label.sk-toggleable__label,\n",
              "#sk-container-id-1 div.sk-label label {\n",
              "  /* The background is the default theme color */\n",
              "  color: var(--sklearn-color-text-on-default-background);\n",
              "}\n",
              "\n",
              "/* On hover, darken the color of the background */\n",
              "#sk-container-id-1 div.sk-label:hover label.sk-toggleable__label {\n",
              "  color: var(--sklearn-color-text);\n",
              "  background-color: var(--sklearn-color-unfitted-level-2);\n",
              "}\n",
              "\n",
              "/* Label box, darken color on hover, fitted */\n",
              "#sk-container-id-1 div.sk-label.fitted:hover label.sk-toggleable__label.fitted {\n",
              "  color: var(--sklearn-color-text);\n",
              "  background-color: var(--sklearn-color-fitted-level-2);\n",
              "}\n",
              "\n",
              "/* Estimator label */\n",
              "\n",
              "#sk-container-id-1 div.sk-label label {\n",
              "  font-family: monospace;\n",
              "  font-weight: bold;\n",
              "  display: inline-block;\n",
              "  line-height: 1.2em;\n",
              "}\n",
              "\n",
              "#sk-container-id-1 div.sk-label-container {\n",
              "  text-align: center;\n",
              "}\n",
              "\n",
              "/* Estimator-specific */\n",
              "#sk-container-id-1 div.sk-estimator {\n",
              "  font-family: monospace;\n",
              "  border: 1px dotted var(--sklearn-color-border-box);\n",
              "  border-radius: 0.25em;\n",
              "  box-sizing: border-box;\n",
              "  margin-bottom: 0.5em;\n",
              "  /* unfitted */\n",
              "  background-color: var(--sklearn-color-unfitted-level-0);\n",
              "}\n",
              "\n",
              "#sk-container-id-1 div.sk-estimator.fitted {\n",
              "  /* fitted */\n",
              "  background-color: var(--sklearn-color-fitted-level-0);\n",
              "}\n",
              "\n",
              "/* on hover */\n",
              "#sk-container-id-1 div.sk-estimator:hover {\n",
              "  /* unfitted */\n",
              "  background-color: var(--sklearn-color-unfitted-level-2);\n",
              "}\n",
              "\n",
              "#sk-container-id-1 div.sk-estimator.fitted:hover {\n",
              "  /* fitted */\n",
              "  background-color: var(--sklearn-color-fitted-level-2);\n",
              "}\n",
              "\n",
              "/* Specification for estimator info (e.g. \"i\" and \"?\") */\n",
              "\n",
              "/* Common style for \"i\" and \"?\" */\n",
              "\n",
              ".sk-estimator-doc-link,\n",
              "a:link.sk-estimator-doc-link,\n",
              "a:visited.sk-estimator-doc-link {\n",
              "  float: right;\n",
              "  font-size: smaller;\n",
              "  line-height: 1em;\n",
              "  font-family: monospace;\n",
              "  background-color: var(--sklearn-color-background);\n",
              "  border-radius: 1em;\n",
              "  height: 1em;\n",
              "  width: 1em;\n",
              "  text-decoration: none !important;\n",
              "  margin-left: 0.5em;\n",
              "  text-align: center;\n",
              "  /* unfitted */\n",
              "  border: var(--sklearn-color-unfitted-level-1) 1pt solid;\n",
              "  color: var(--sklearn-color-unfitted-level-1);\n",
              "}\n",
              "\n",
              ".sk-estimator-doc-link.fitted,\n",
              "a:link.sk-estimator-doc-link.fitted,\n",
              "a:visited.sk-estimator-doc-link.fitted {\n",
              "  /* fitted */\n",
              "  border: var(--sklearn-color-fitted-level-1) 1pt solid;\n",
              "  color: var(--sklearn-color-fitted-level-1);\n",
              "}\n",
              "\n",
              "/* On hover */\n",
              "div.sk-estimator:hover .sk-estimator-doc-link:hover,\n",
              ".sk-estimator-doc-link:hover,\n",
              "div.sk-label-container:hover .sk-estimator-doc-link:hover,\n",
              ".sk-estimator-doc-link:hover {\n",
              "  /* unfitted */\n",
              "  background-color: var(--sklearn-color-unfitted-level-3);\n",
              "  color: var(--sklearn-color-background);\n",
              "  text-decoration: none;\n",
              "}\n",
              "\n",
              "div.sk-estimator.fitted:hover .sk-estimator-doc-link.fitted:hover,\n",
              ".sk-estimator-doc-link.fitted:hover,\n",
              "div.sk-label-container:hover .sk-estimator-doc-link.fitted:hover,\n",
              ".sk-estimator-doc-link.fitted:hover {\n",
              "  /* fitted */\n",
              "  background-color: var(--sklearn-color-fitted-level-3);\n",
              "  color: var(--sklearn-color-background);\n",
              "  text-decoration: none;\n",
              "}\n",
              "\n",
              "/* Span, style for the box shown on hovering the info icon */\n",
              ".sk-estimator-doc-link span {\n",
              "  display: none;\n",
              "  z-index: 9999;\n",
              "  position: relative;\n",
              "  font-weight: normal;\n",
              "  right: .2ex;\n",
              "  padding: .5ex;\n",
              "  margin: .5ex;\n",
              "  width: min-content;\n",
              "  min-width: 20ex;\n",
              "  max-width: 50ex;\n",
              "  color: var(--sklearn-color-text);\n",
              "  box-shadow: 2pt 2pt 4pt #999;\n",
              "  /* unfitted */\n",
              "  background: var(--sklearn-color-unfitted-level-0);\n",
              "  border: .5pt solid var(--sklearn-color-unfitted-level-3);\n",
              "}\n",
              "\n",
              ".sk-estimator-doc-link.fitted span {\n",
              "  /* fitted */\n",
              "  background: var(--sklearn-color-fitted-level-0);\n",
              "  border: var(--sklearn-color-fitted-level-3);\n",
              "}\n",
              "\n",
              ".sk-estimator-doc-link:hover span {\n",
              "  display: block;\n",
              "}\n",
              "\n",
              "/* \"?\"-specific style due to the `<a>` HTML tag */\n",
              "\n",
              "#sk-container-id-1 a.estimator_doc_link {\n",
              "  float: right;\n",
              "  font-size: 1rem;\n",
              "  line-height: 1em;\n",
              "  font-family: monospace;\n",
              "  background-color: var(--sklearn-color-background);\n",
              "  border-radius: 1rem;\n",
              "  height: 1rem;\n",
              "  width: 1rem;\n",
              "  text-decoration: none;\n",
              "  /* unfitted */\n",
              "  color: var(--sklearn-color-unfitted-level-1);\n",
              "  border: var(--sklearn-color-unfitted-level-1) 1pt solid;\n",
              "}\n",
              "\n",
              "#sk-container-id-1 a.estimator_doc_link.fitted {\n",
              "  /* fitted */\n",
              "  border: var(--sklearn-color-fitted-level-1) 1pt solid;\n",
              "  color: var(--sklearn-color-fitted-level-1);\n",
              "}\n",
              "\n",
              "/* On hover */\n",
              "#sk-container-id-1 a.estimator_doc_link:hover {\n",
              "  /* unfitted */\n",
              "  background-color: var(--sklearn-color-unfitted-level-3);\n",
              "  color: var(--sklearn-color-background);\n",
              "  text-decoration: none;\n",
              "}\n",
              "\n",
              "#sk-container-id-1 a.estimator_doc_link.fitted:hover {\n",
              "  /* fitted */\n",
              "  background-color: var(--sklearn-color-fitted-level-3);\n",
              "}\n",
              "</style><div id=\"sk-container-id-1\" class=\"sk-top-container\"><div class=\"sk-text-repr-fallback\"><pre>SVC(class_weight=&#x27;balanced&#x27;, probability=True, random_state=40)</pre><b>In a Jupyter environment, please rerun this cell to show the HTML representation or trust the notebook. <br />On GitHub, the HTML representation is unable to render, please try loading this page with nbviewer.org.</b></div><div class=\"sk-container\" hidden><div class=\"sk-item\"><div class=\"sk-estimator fitted sk-toggleable\"><input class=\"sk-toggleable__control sk-hidden--visually\" id=\"sk-estimator-id-1\" type=\"checkbox\" checked><label for=\"sk-estimator-id-1\" class=\"sk-toggleable__label fitted sk-toggleable__label-arrow\"><div><div>SVC</div></div><div><a class=\"sk-estimator-doc-link fitted\" rel=\"noreferrer\" target=\"_blank\" href=\"https://scikit-learn.org/1.6/modules/generated/sklearn.svm.SVC.html\">?<span>Documentation for SVC</span></a><span class=\"sk-estimator-doc-link fitted\">i<span>Fitted</span></span></div></label><div class=\"sk-toggleable__content fitted\"><pre>SVC(class_weight=&#x27;balanced&#x27;, probability=True, random_state=40)</pre></div> </div></div></div></div>"
            ],
            "text/plain": [
              "SVC(class_weight='balanced', probability=True, random_state=40)"
            ]
          },
          "execution_count": 31,
          "metadata": {},
          "output_type": "execute_result"
        }
      ],
      "source": [
        "#SVM Model\n",
        "svm_model = SVC(kernel='rbf', probability=True, class_weight='balanced', random_state=rs)\n",
        "svm_model.fit(X_train, y_train)"
      ]
    },
    {
      "cell_type": "code",
      "execution_count": 32,
      "metadata": {
        "colab": {
          "base_uri": "https://localhost:8080/"
        },
        "id": "PuSlhn59eYmM",
        "outputId": "f36fd7ed-d4f2-40a9-c038-f6337d9faa62"
      },
      "outputs": [
        {
          "name": "stderr",
          "output_type": "stream",
          "text": [
            "100%|██████████| 80/80 [00:00<00:00, 173.54it/s]"
          ]
        },
        {
          "name": "stdout",
          "output_type": "stream",
          "text": [
            "\n",
            "✅ Best Threshold: 0.27 | Best F2 Score: 0.8540\n"
          ]
        },
        {
          "name": "stderr",
          "output_type": "stream",
          "text": [
            "\n"
          ]
        }
      ],
      "source": [
        "from sklearn.metrics import make_scorer\n",
        "\n",
        "# Predict Probabilities on Val Data\n",
        "y_probs = svm_model.predict_proba(X_val)[:, 1]\n",
        "\n",
        "# Grid Search for Best Threshold (Based on F2 Score)\n",
        "from tqdm import tqdm\n",
        "\n",
        "def calculate_f2(precision, recall):\n",
        "    return (5 * precision * recall) / (4 * precision + recall + 1e-8)\n",
        "\n",
        "best_thresh = 0.5\n",
        "best_f2 = 0\n",
        "\n",
        "for thresh in tqdm(np.arange(0.1, 0.9, 0.01)):\n",
        "    preds = (y_probs >= thresh).astype(int)\n",
        "    prec = precision_score(y_val, preds)\n",
        "    rec = recall_score(y_val, preds)\n",
        "    f2 = calculate_f2(prec, rec)\n",
        "\n",
        "    if f2 > best_f2:\n",
        "        best_f2 = f2\n",
        "        best_thresh = thresh\n",
        "\n",
        "print(f\"\\n✅ Best Threshold: {best_thresh:.2f} | Best F2 Score: {best_f2:.4f}\")"
      ]
    },
    {
      "cell_type": "code",
      "execution_count": 33,
      "metadata": {
        "colab": {
          "base_uri": "https://localhost:8080/"
        },
        "id": "xfQNc66WjLZm",
        "outputId": "1f116c0a-c465-45ca-d272-a0ef105362e3"
      },
      "outputs": [
        {
          "name": "stdout",
          "output_type": "stream",
          "text": [
            "\n",
            "📊 Evaluation on Test Set:\n",
            "Confusion Matrix:\n",
            " [[ 761 3210]\n",
            " [  79 4126]]\n",
            "Classification Report:\n",
            "               precision    recall  f1-score   support\n",
            "\n",
            "           0       0.91      0.19      0.32      3971\n",
            "           1       0.56      0.98      0.72      4205\n",
            "\n",
            "    accuracy                           0.60      8176\n",
            "   macro avg       0.73      0.59      0.52      8176\n",
            "weighted avg       0.73      0.60      0.52      8176\n",
            "\n",
            "F1 Score: 0.7150160298067758\n",
            "F2 Score: 0.8540321245239277\n"
          ]
        }
      ],
      "source": [
        "#Evaluate on Val Data\n",
        "y_probs = svm_model.predict_proba(X_val)[:, 1]\n",
        "threshold = 0.27\n",
        "y_pred = (y_probs >= threshold).astype(int)\n",
        "print(\"\\n📊 Evaluation on Test Set:\")\n",
        "print(\"Confusion Matrix:\\n\", confusion_matrix(y_val, y_pred))\n",
        "print(\"Classification Report:\\n\", classification_report(y_val, y_pred))\n",
        "print(\"F1 Score:\", f1_score(y_val, y_pred))\n",
        "f2_score = (5 * precision_score(y_val, y_pred) * recall_score(y_val, y_pred)) / \\\n",
        "           (4 * precision_score(y_val, y_pred) + recall_score(y_val, y_pred))\n",
        "print(\"F2 Score:\", f2_score)"
      ]
    },
    {
      "cell_type": "markdown",
      "metadata": {
        "id": "S5bVxeCBOrVo"
      },
      "source": [
        "On whole train data"
      ]
    },
    {
      "cell_type": "code",
      "execution_count": 34,
      "metadata": {
        "colab": {
          "base_uri": "https://localhost:8080/"
        },
        "id": "_CHjxLFcOsLL",
        "outputId": "df2fd966-6a97-46c2-a179-359635244f2e"
      },
      "outputs": [
        {
          "name": "stdout",
          "output_type": "stream",
          "text": [
            "\n",
            "📊 Evaluation on Test Set:\n",
            "Confusion Matrix:\n",
            " [[ 3940 16500]\n",
            " [  329 20111]]\n",
            "Classification Report:\n",
            "               precision    recall  f1-score   support\n",
            "\n",
            "           0       0.92      0.19      0.32     20440\n",
            "           1       0.55      0.98      0.71     20440\n",
            "\n",
            "    accuracy                           0.59     40880\n",
            "   macro avg       0.74      0.59      0.51     40880\n",
            "weighted avg       0.74      0.59      0.51     40880\n",
            "\n",
            "F1 Score: 0.7050183169444882\n",
            "F2 Score: 0.8494901622863709\n"
          ]
        }
      ],
      "source": [
        "y_probs = svm_model.predict_proba(X)[:, 1]\n",
        "threshold = 0.27\n",
        "y_pred = (y_probs >= threshold).astype(int)\n",
        "print(\"\\n📊 Evaluation on Test Set:\")\n",
        "print(\"Confusion Matrix:\\n\", confusion_matrix(y, y_pred))\n",
        "print(\"Classification Report:\\n\", classification_report(y, y_pred))\n",
        "print(\"F1 Score:\", f1_score(y, y_pred))\n",
        "f2_score = (5 * precision_score(y, y_pred) * recall_score(y, y_pred)) / \\\n",
        "           (4 * precision_score(y, y_pred) + recall_score(y, y_pred))\n",
        "print(\"F2 Score:\", f2_score)"
      ]
    },
    {
      "cell_type": "markdown",
      "metadata": {
        "id": "nIT4tI3fkFEU"
      },
      "source": [
        "##XGBoost"
      ]
    },
    {
      "cell_type": "code",
      "execution_count": 35,
      "metadata": {
        "colab": {
          "base_uri": "https://localhost:8080/",
          "height": 326
        },
        "id": "2N645UxHkH1n",
        "outputId": "35c9d4e7-7b40-4909-89ea-44e8df115ee2"
      },
      "outputs": [
        {
          "name": "stderr",
          "output_type": "stream",
          "text": [
            "/usr/local/lib/python3.11/dist-packages/xgboost/core.py:158: UserWarning: [06:10:12] WARNING: /workspace/src/learner.cc:740: \n",
            "Parameters: { \"use_label_encoder\" } are not used.\n",
            "\n",
            "  warnings.warn(smsg, UserWarning)\n"
          ]
        },
        {
          "data": {
            "text/html": [
              "<style>#sk-container-id-2 {\n",
              "  /* Definition of color scheme common for light and dark mode */\n",
              "  --sklearn-color-text: #000;\n",
              "  --sklearn-color-text-muted: #666;\n",
              "  --sklearn-color-line: gray;\n",
              "  /* Definition of color scheme for unfitted estimators */\n",
              "  --sklearn-color-unfitted-level-0: #fff5e6;\n",
              "  --sklearn-color-unfitted-level-1: #f6e4d2;\n",
              "  --sklearn-color-unfitted-level-2: #ffe0b3;\n",
              "  --sklearn-color-unfitted-level-3: chocolate;\n",
              "  /* Definition of color scheme for fitted estimators */\n",
              "  --sklearn-color-fitted-level-0: #f0f8ff;\n",
              "  --sklearn-color-fitted-level-1: #d4ebff;\n",
              "  --sklearn-color-fitted-level-2: #b3dbfd;\n",
              "  --sklearn-color-fitted-level-3: cornflowerblue;\n",
              "\n",
              "  /* Specific color for light theme */\n",
              "  --sklearn-color-text-on-default-background: var(--sg-text-color, var(--theme-code-foreground, var(--jp-content-font-color1, black)));\n",
              "  --sklearn-color-background: var(--sg-background-color, var(--theme-background, var(--jp-layout-color0, white)));\n",
              "  --sklearn-color-border-box: var(--sg-text-color, var(--theme-code-foreground, var(--jp-content-font-color1, black)));\n",
              "  --sklearn-color-icon: #696969;\n",
              "\n",
              "  @media (prefers-color-scheme: dark) {\n",
              "    /* Redefinition of color scheme for dark theme */\n",
              "    --sklearn-color-text-on-default-background: var(--sg-text-color, var(--theme-code-foreground, var(--jp-content-font-color1, white)));\n",
              "    --sklearn-color-background: var(--sg-background-color, var(--theme-background, var(--jp-layout-color0, #111)));\n",
              "    --sklearn-color-border-box: var(--sg-text-color, var(--theme-code-foreground, var(--jp-content-font-color1, white)));\n",
              "    --sklearn-color-icon: #878787;\n",
              "  }\n",
              "}\n",
              "\n",
              "#sk-container-id-2 {\n",
              "  color: var(--sklearn-color-text);\n",
              "}\n",
              "\n",
              "#sk-container-id-2 pre {\n",
              "  padding: 0;\n",
              "}\n",
              "\n",
              "#sk-container-id-2 input.sk-hidden--visually {\n",
              "  border: 0;\n",
              "  clip: rect(1px 1px 1px 1px);\n",
              "  clip: rect(1px, 1px, 1px, 1px);\n",
              "  height: 1px;\n",
              "  margin: -1px;\n",
              "  overflow: hidden;\n",
              "  padding: 0;\n",
              "  position: absolute;\n",
              "  width: 1px;\n",
              "}\n",
              "\n",
              "#sk-container-id-2 div.sk-dashed-wrapped {\n",
              "  border: 1px dashed var(--sklearn-color-line);\n",
              "  margin: 0 0.4em 0.5em 0.4em;\n",
              "  box-sizing: border-box;\n",
              "  padding-bottom: 0.4em;\n",
              "  background-color: var(--sklearn-color-background);\n",
              "}\n",
              "\n",
              "#sk-container-id-2 div.sk-container {\n",
              "  /* jupyter's `normalize.less` sets `[hidden] { display: none; }`\n",
              "     but bootstrap.min.css set `[hidden] { display: none !important; }`\n",
              "     so we also need the `!important` here to be able to override the\n",
              "     default hidden behavior on the sphinx rendered scikit-learn.org.\n",
              "     See: https://github.com/scikit-learn/scikit-learn/issues/21755 */\n",
              "  display: inline-block !important;\n",
              "  position: relative;\n",
              "}\n",
              "\n",
              "#sk-container-id-2 div.sk-text-repr-fallback {\n",
              "  display: none;\n",
              "}\n",
              "\n",
              "div.sk-parallel-item,\n",
              "div.sk-serial,\n",
              "div.sk-item {\n",
              "  /* draw centered vertical line to link estimators */\n",
              "  background-image: linear-gradient(var(--sklearn-color-text-on-default-background), var(--sklearn-color-text-on-default-background));\n",
              "  background-size: 2px 100%;\n",
              "  background-repeat: no-repeat;\n",
              "  background-position: center center;\n",
              "}\n",
              "\n",
              "/* Parallel-specific style estimator block */\n",
              "\n",
              "#sk-container-id-2 div.sk-parallel-item::after {\n",
              "  content: \"\";\n",
              "  width: 100%;\n",
              "  border-bottom: 2px solid var(--sklearn-color-text-on-default-background);\n",
              "  flex-grow: 1;\n",
              "}\n",
              "\n",
              "#sk-container-id-2 div.sk-parallel {\n",
              "  display: flex;\n",
              "  align-items: stretch;\n",
              "  justify-content: center;\n",
              "  background-color: var(--sklearn-color-background);\n",
              "  position: relative;\n",
              "}\n",
              "\n",
              "#sk-container-id-2 div.sk-parallel-item {\n",
              "  display: flex;\n",
              "  flex-direction: column;\n",
              "}\n",
              "\n",
              "#sk-container-id-2 div.sk-parallel-item:first-child::after {\n",
              "  align-self: flex-end;\n",
              "  width: 50%;\n",
              "}\n",
              "\n",
              "#sk-container-id-2 div.sk-parallel-item:last-child::after {\n",
              "  align-self: flex-start;\n",
              "  width: 50%;\n",
              "}\n",
              "\n",
              "#sk-container-id-2 div.sk-parallel-item:only-child::after {\n",
              "  width: 0;\n",
              "}\n",
              "\n",
              "/* Serial-specific style estimator block */\n",
              "\n",
              "#sk-container-id-2 div.sk-serial {\n",
              "  display: flex;\n",
              "  flex-direction: column;\n",
              "  align-items: center;\n",
              "  background-color: var(--sklearn-color-background);\n",
              "  padding-right: 1em;\n",
              "  padding-left: 1em;\n",
              "}\n",
              "\n",
              "\n",
              "/* Toggleable style: style used for estimator/Pipeline/ColumnTransformer box that is\n",
              "clickable and can be expanded/collapsed.\n",
              "- Pipeline and ColumnTransformer use this feature and define the default style\n",
              "- Estimators will overwrite some part of the style using the `sk-estimator` class\n",
              "*/\n",
              "\n",
              "/* Pipeline and ColumnTransformer style (default) */\n",
              "\n",
              "#sk-container-id-2 div.sk-toggleable {\n",
              "  /* Default theme specific background. It is overwritten whether we have a\n",
              "  specific estimator or a Pipeline/ColumnTransformer */\n",
              "  background-color: var(--sklearn-color-background);\n",
              "}\n",
              "\n",
              "/* Toggleable label */\n",
              "#sk-container-id-2 label.sk-toggleable__label {\n",
              "  cursor: pointer;\n",
              "  display: flex;\n",
              "  width: 100%;\n",
              "  margin-bottom: 0;\n",
              "  padding: 0.5em;\n",
              "  box-sizing: border-box;\n",
              "  text-align: center;\n",
              "  align-items: start;\n",
              "  justify-content: space-between;\n",
              "  gap: 0.5em;\n",
              "}\n",
              "\n",
              "#sk-container-id-2 label.sk-toggleable__label .caption {\n",
              "  font-size: 0.6rem;\n",
              "  font-weight: lighter;\n",
              "  color: var(--sklearn-color-text-muted);\n",
              "}\n",
              "\n",
              "#sk-container-id-2 label.sk-toggleable__label-arrow:before {\n",
              "  /* Arrow on the left of the label */\n",
              "  content: \"▸\";\n",
              "  float: left;\n",
              "  margin-right: 0.25em;\n",
              "  color: var(--sklearn-color-icon);\n",
              "}\n",
              "\n",
              "#sk-container-id-2 label.sk-toggleable__label-arrow:hover:before {\n",
              "  color: var(--sklearn-color-text);\n",
              "}\n",
              "\n",
              "/* Toggleable content - dropdown */\n",
              "\n",
              "#sk-container-id-2 div.sk-toggleable__content {\n",
              "  max-height: 0;\n",
              "  max-width: 0;\n",
              "  overflow: hidden;\n",
              "  text-align: left;\n",
              "  /* unfitted */\n",
              "  background-color: var(--sklearn-color-unfitted-level-0);\n",
              "}\n",
              "\n",
              "#sk-container-id-2 div.sk-toggleable__content.fitted {\n",
              "  /* fitted */\n",
              "  background-color: var(--sklearn-color-fitted-level-0);\n",
              "}\n",
              "\n",
              "#sk-container-id-2 div.sk-toggleable__content pre {\n",
              "  margin: 0.2em;\n",
              "  border-radius: 0.25em;\n",
              "  color: var(--sklearn-color-text);\n",
              "  /* unfitted */\n",
              "  background-color: var(--sklearn-color-unfitted-level-0);\n",
              "}\n",
              "\n",
              "#sk-container-id-2 div.sk-toggleable__content.fitted pre {\n",
              "  /* unfitted */\n",
              "  background-color: var(--sklearn-color-fitted-level-0);\n",
              "}\n",
              "\n",
              "#sk-container-id-2 input.sk-toggleable__control:checked~div.sk-toggleable__content {\n",
              "  /* Expand drop-down */\n",
              "  max-height: 200px;\n",
              "  max-width: 100%;\n",
              "  overflow: auto;\n",
              "}\n",
              "\n",
              "#sk-container-id-2 input.sk-toggleable__control:checked~label.sk-toggleable__label-arrow:before {\n",
              "  content: \"▾\";\n",
              "}\n",
              "\n",
              "/* Pipeline/ColumnTransformer-specific style */\n",
              "\n",
              "#sk-container-id-2 div.sk-label input.sk-toggleable__control:checked~label.sk-toggleable__label {\n",
              "  color: var(--sklearn-color-text);\n",
              "  background-color: var(--sklearn-color-unfitted-level-2);\n",
              "}\n",
              "\n",
              "#sk-container-id-2 div.sk-label.fitted input.sk-toggleable__control:checked~label.sk-toggleable__label {\n",
              "  background-color: var(--sklearn-color-fitted-level-2);\n",
              "}\n",
              "\n",
              "/* Estimator-specific style */\n",
              "\n",
              "/* Colorize estimator box */\n",
              "#sk-container-id-2 div.sk-estimator input.sk-toggleable__control:checked~label.sk-toggleable__label {\n",
              "  /* unfitted */\n",
              "  background-color: var(--sklearn-color-unfitted-level-2);\n",
              "}\n",
              "\n",
              "#sk-container-id-2 div.sk-estimator.fitted input.sk-toggleable__control:checked~label.sk-toggleable__label {\n",
              "  /* fitted */\n",
              "  background-color: var(--sklearn-color-fitted-level-2);\n",
              "}\n",
              "\n",
              "#sk-container-id-2 div.sk-label label.sk-toggleable__label,\n",
              "#sk-container-id-2 div.sk-label label {\n",
              "  /* The background is the default theme color */\n",
              "  color: var(--sklearn-color-text-on-default-background);\n",
              "}\n",
              "\n",
              "/* On hover, darken the color of the background */\n",
              "#sk-container-id-2 div.sk-label:hover label.sk-toggleable__label {\n",
              "  color: var(--sklearn-color-text);\n",
              "  background-color: var(--sklearn-color-unfitted-level-2);\n",
              "}\n",
              "\n",
              "/* Label box, darken color on hover, fitted */\n",
              "#sk-container-id-2 div.sk-label.fitted:hover label.sk-toggleable__label.fitted {\n",
              "  color: var(--sklearn-color-text);\n",
              "  background-color: var(--sklearn-color-fitted-level-2);\n",
              "}\n",
              "\n",
              "/* Estimator label */\n",
              "\n",
              "#sk-container-id-2 div.sk-label label {\n",
              "  font-family: monospace;\n",
              "  font-weight: bold;\n",
              "  display: inline-block;\n",
              "  line-height: 1.2em;\n",
              "}\n",
              "\n",
              "#sk-container-id-2 div.sk-label-container {\n",
              "  text-align: center;\n",
              "}\n",
              "\n",
              "/* Estimator-specific */\n",
              "#sk-container-id-2 div.sk-estimator {\n",
              "  font-family: monospace;\n",
              "  border: 1px dotted var(--sklearn-color-border-box);\n",
              "  border-radius: 0.25em;\n",
              "  box-sizing: border-box;\n",
              "  margin-bottom: 0.5em;\n",
              "  /* unfitted */\n",
              "  background-color: var(--sklearn-color-unfitted-level-0);\n",
              "}\n",
              "\n",
              "#sk-container-id-2 div.sk-estimator.fitted {\n",
              "  /* fitted */\n",
              "  background-color: var(--sklearn-color-fitted-level-0);\n",
              "}\n",
              "\n",
              "/* on hover */\n",
              "#sk-container-id-2 div.sk-estimator:hover {\n",
              "  /* unfitted */\n",
              "  background-color: var(--sklearn-color-unfitted-level-2);\n",
              "}\n",
              "\n",
              "#sk-container-id-2 div.sk-estimator.fitted:hover {\n",
              "  /* fitted */\n",
              "  background-color: var(--sklearn-color-fitted-level-2);\n",
              "}\n",
              "\n",
              "/* Specification for estimator info (e.g. \"i\" and \"?\") */\n",
              "\n",
              "/* Common style for \"i\" and \"?\" */\n",
              "\n",
              ".sk-estimator-doc-link,\n",
              "a:link.sk-estimator-doc-link,\n",
              "a:visited.sk-estimator-doc-link {\n",
              "  float: right;\n",
              "  font-size: smaller;\n",
              "  line-height: 1em;\n",
              "  font-family: monospace;\n",
              "  background-color: var(--sklearn-color-background);\n",
              "  border-radius: 1em;\n",
              "  height: 1em;\n",
              "  width: 1em;\n",
              "  text-decoration: none !important;\n",
              "  margin-left: 0.5em;\n",
              "  text-align: center;\n",
              "  /* unfitted */\n",
              "  border: var(--sklearn-color-unfitted-level-1) 1pt solid;\n",
              "  color: var(--sklearn-color-unfitted-level-1);\n",
              "}\n",
              "\n",
              ".sk-estimator-doc-link.fitted,\n",
              "a:link.sk-estimator-doc-link.fitted,\n",
              "a:visited.sk-estimator-doc-link.fitted {\n",
              "  /* fitted */\n",
              "  border: var(--sklearn-color-fitted-level-1) 1pt solid;\n",
              "  color: var(--sklearn-color-fitted-level-1);\n",
              "}\n",
              "\n",
              "/* On hover */\n",
              "div.sk-estimator:hover .sk-estimator-doc-link:hover,\n",
              ".sk-estimator-doc-link:hover,\n",
              "div.sk-label-container:hover .sk-estimator-doc-link:hover,\n",
              ".sk-estimator-doc-link:hover {\n",
              "  /* unfitted */\n",
              "  background-color: var(--sklearn-color-unfitted-level-3);\n",
              "  color: var(--sklearn-color-background);\n",
              "  text-decoration: none;\n",
              "}\n",
              "\n",
              "div.sk-estimator.fitted:hover .sk-estimator-doc-link.fitted:hover,\n",
              ".sk-estimator-doc-link.fitted:hover,\n",
              "div.sk-label-container:hover .sk-estimator-doc-link.fitted:hover,\n",
              ".sk-estimator-doc-link.fitted:hover {\n",
              "  /* fitted */\n",
              "  background-color: var(--sklearn-color-fitted-level-3);\n",
              "  color: var(--sklearn-color-background);\n",
              "  text-decoration: none;\n",
              "}\n",
              "\n",
              "/* Span, style for the box shown on hovering the info icon */\n",
              ".sk-estimator-doc-link span {\n",
              "  display: none;\n",
              "  z-index: 9999;\n",
              "  position: relative;\n",
              "  font-weight: normal;\n",
              "  right: .2ex;\n",
              "  padding: .5ex;\n",
              "  margin: .5ex;\n",
              "  width: min-content;\n",
              "  min-width: 20ex;\n",
              "  max-width: 50ex;\n",
              "  color: var(--sklearn-color-text);\n",
              "  box-shadow: 2pt 2pt 4pt #999;\n",
              "  /* unfitted */\n",
              "  background: var(--sklearn-color-unfitted-level-0);\n",
              "  border: .5pt solid var(--sklearn-color-unfitted-level-3);\n",
              "}\n",
              "\n",
              ".sk-estimator-doc-link.fitted span {\n",
              "  /* fitted */\n",
              "  background: var(--sklearn-color-fitted-level-0);\n",
              "  border: var(--sklearn-color-fitted-level-3);\n",
              "}\n",
              "\n",
              ".sk-estimator-doc-link:hover span {\n",
              "  display: block;\n",
              "}\n",
              "\n",
              "/* \"?\"-specific style due to the `<a>` HTML tag */\n",
              "\n",
              "#sk-container-id-2 a.estimator_doc_link {\n",
              "  float: right;\n",
              "  font-size: 1rem;\n",
              "  line-height: 1em;\n",
              "  font-family: monospace;\n",
              "  background-color: var(--sklearn-color-background);\n",
              "  border-radius: 1rem;\n",
              "  height: 1rem;\n",
              "  width: 1rem;\n",
              "  text-decoration: none;\n",
              "  /* unfitted */\n",
              "  color: var(--sklearn-color-unfitted-level-1);\n",
              "  border: var(--sklearn-color-unfitted-level-1) 1pt solid;\n",
              "}\n",
              "\n",
              "#sk-container-id-2 a.estimator_doc_link.fitted {\n",
              "  /* fitted */\n",
              "  border: var(--sklearn-color-fitted-level-1) 1pt solid;\n",
              "  color: var(--sklearn-color-fitted-level-1);\n",
              "}\n",
              "\n",
              "/* On hover */\n",
              "#sk-container-id-2 a.estimator_doc_link:hover {\n",
              "  /* unfitted */\n",
              "  background-color: var(--sklearn-color-unfitted-level-3);\n",
              "  color: var(--sklearn-color-background);\n",
              "  text-decoration: none;\n",
              "}\n",
              "\n",
              "#sk-container-id-2 a.estimator_doc_link.fitted:hover {\n",
              "  /* fitted */\n",
              "  background-color: var(--sklearn-color-fitted-level-3);\n",
              "}\n",
              "</style><div id=\"sk-container-id-2\" class=\"sk-top-container\"><div class=\"sk-text-repr-fallback\"><pre>XGBClassifier(base_score=None, booster=None, callbacks=None,\n",
              "              colsample_bylevel=None, colsample_bynode=None,\n",
              "              colsample_bytree=None, device=None, early_stopping_rounds=None,\n",
              "              enable_categorical=False, eval_metric=&#x27;logloss&#x27;,\n",
              "              feature_types=None, gamma=None, grow_policy=None,\n",
              "              importance_type=None, interaction_constraints=None,\n",
              "              learning_rate=None, max_bin=None, max_cat_threshold=None,\n",
              "              max_cat_to_onehot=None, max_delta_step=None, max_depth=None,\n",
              "              max_leaves=None, min_child_weight=None, missing=nan,\n",
              "              monotone_constraints=None, multi_strategy=None, n_estimators=None,\n",
              "              n_jobs=None, num_parallel_tree=None, random_state=40, ...)</pre><b>In a Jupyter environment, please rerun this cell to show the HTML representation or trust the notebook. <br />On GitHub, the HTML representation is unable to render, please try loading this page with nbviewer.org.</b></div><div class=\"sk-container\" hidden><div class=\"sk-item\"><div class=\"sk-estimator fitted sk-toggleable\"><input class=\"sk-toggleable__control sk-hidden--visually\" id=\"sk-estimator-id-2\" type=\"checkbox\" checked><label for=\"sk-estimator-id-2\" class=\"sk-toggleable__label fitted sk-toggleable__label-arrow\"><div><div>XGBClassifier</div></div><div><span class=\"sk-estimator-doc-link fitted\">i<span>Fitted</span></span></div></label><div class=\"sk-toggleable__content fitted\"><pre>XGBClassifier(base_score=None, booster=None, callbacks=None,\n",
              "              colsample_bylevel=None, colsample_bynode=None,\n",
              "              colsample_bytree=None, device=None, early_stopping_rounds=None,\n",
              "              enable_categorical=False, eval_metric=&#x27;logloss&#x27;,\n",
              "              feature_types=None, gamma=None, grow_policy=None,\n",
              "              importance_type=None, interaction_constraints=None,\n",
              "              learning_rate=None, max_bin=None, max_cat_threshold=None,\n",
              "              max_cat_to_onehot=None, max_delta_step=None, max_depth=None,\n",
              "              max_leaves=None, min_child_weight=None, missing=nan,\n",
              "              monotone_constraints=None, multi_strategy=None, n_estimators=None,\n",
              "              n_jobs=None, num_parallel_tree=None, random_state=40, ...)</pre></div> </div></div></div></div>"
            ],
            "text/plain": [
              "XGBClassifier(base_score=None, booster=None, callbacks=None,\n",
              "              colsample_bylevel=None, colsample_bynode=None,\n",
              "              colsample_bytree=None, device=None, early_stopping_rounds=None,\n",
              "              enable_categorical=False, eval_metric='logloss',\n",
              "              feature_types=None, gamma=None, grow_policy=None,\n",
              "              importance_type=None, interaction_constraints=None,\n",
              "              learning_rate=None, max_bin=None, max_cat_threshold=None,\n",
              "              max_cat_to_onehot=None, max_delta_step=None, max_depth=None,\n",
              "              max_leaves=None, min_child_weight=None, missing=nan,\n",
              "              monotone_constraints=None, multi_strategy=None, n_estimators=None,\n",
              "              n_jobs=None, num_parallel_tree=None, random_state=40, ...)"
            ]
          },
          "execution_count": 35,
          "metadata": {},
          "output_type": "execute_result"
        }
      ],
      "source": [
        "#  Train XGBoost Model\n",
        "xg_model = xgb.XGBClassifier(\n",
        "    random_state=rs,\n",
        "    scale_pos_weight=1,\n",
        "    use_label_encoder=False,\n",
        "    eval_metric='logloss'\n",
        ")\n",
        "xg_model.fit(X_train, y_train)"
      ]
    },
    {
      "cell_type": "code",
      "execution_count": 36,
      "metadata": {
        "id": "CUxWDtwNkhSg"
      },
      "outputs": [],
      "source": [
        "#  Predict Probability on Test\n",
        "y_probs = xg_model.predict_proba(X_val)[:, 1]"
      ]
    },
    {
      "cell_type": "code",
      "execution_count": 37,
      "metadata": {
        "colab": {
          "base_uri": "https://localhost:8080/"
        },
        "id": "piHnCkhYknu7",
        "outputId": "655376b5-45cb-4006-d9b0-54a8f07130b0"
      },
      "outputs": [
        {
          "name": "stderr",
          "output_type": "stream",
          "text": [
            "100%|██████████| 80/80 [00:00<00:00, 175.29it/s]"
          ]
        },
        {
          "name": "stdout",
          "output_type": "stream",
          "text": [
            "\n",
            "✅ Best Threshold: 0.22 | Best F2 Score: 0.8926\n",
            "\n",
            "📊 Classification Report:\n",
            "              precision    recall  f1-score   support\n",
            "\n",
            "           0       0.90      0.70      0.79      3971\n",
            "           1       0.77      0.93      0.84      4205\n",
            "\n",
            "    accuracy                           0.82      8176\n",
            "   macro avg       0.84      0.82      0.82      8176\n",
            "weighted avg       0.83      0.82      0.82      8176\n",
            "\n"
          ]
        },
        {
          "name": "stderr",
          "output_type": "stream",
          "text": [
            "\n"
          ]
        }
      ],
      "source": [
        "#  Grid Search for Best Threshold (F2 Score)\n",
        "def calculate_f2(precision, recall):\n",
        "    return (5 * precision * recall) / (4 * precision + recall + 1e-8)\n",
        "\n",
        "best_thresh = 0.5\n",
        "best_f2 = 0\n",
        "\n",
        "for thresh in tqdm(np.arange(0.1, 0.9, 0.01)):\n",
        "    preds = (y_probs >= thresh).astype(int)\n",
        "    prec = precision_score(y_val, preds)\n",
        "    rec = recall_score(y_val, preds)\n",
        "    f2 = calculate_f2(prec, rec)\n",
        "\n",
        "    if f2 > best_f2:\n",
        "        best_f2 = f2\n",
        "        best_thresh = thresh\n",
        "\n",
        "print(f\"\\n✅ Best Threshold: {best_thresh:.2f} | Best F2 Score: {best_f2:.4f}\")\n",
        "\n",
        "#  Evaluate Final Predictions\n",
        "final_preds = (y_probs >= best_thresh).astype(int)\n",
        "print(\"\\n📊 Classification Report:\")\n",
        "print(classification_report(y_val, final_preds))\n",
        "\n",
        "#  Predict on Validation Set\n",
        "# val_probs = xg_model.predict_proba(X_val)[:, 1]\n",
        "# val_preds = (val_probs >= best_thresh).astype(int)"
      ]
    },
    {
      "cell_type": "markdown",
      "metadata": {
        "id": "mcTPAwrpPJRv"
      },
      "source": [
        "On whole train data"
      ]
    },
    {
      "cell_type": "code",
      "execution_count": 38,
      "metadata": {
        "colab": {
          "base_uri": "https://localhost:8080/"
        },
        "id": "LgCpIV6kPI6J",
        "outputId": "96b09350-df92-487d-ae14-e94a34986019"
      },
      "outputs": [
        {
          "name": "stdout",
          "output_type": "stream",
          "text": [
            "\n",
            "📊 Classification Report:\n",
            "              precision    recall  f1-score   support\n",
            "\n",
            "           0       0.96      0.76      0.85     20440\n",
            "           1       0.80      0.97      0.88     20440\n",
            "\n",
            "    accuracy                           0.86     40880\n",
            "   macro avg       0.88      0.86      0.86     40880\n",
            "weighted avg       0.88      0.86      0.86     40880\n",
            "\n"
          ]
        }
      ],
      "source": [
        "y_probs = xg_model.predict_proba(X)[:, 1]\n",
        "final_preds = (y_probs >= best_thresh).astype(int)\n",
        "print(\"\\n📊 Classification Report:\")\n",
        "print(classification_report(y, final_preds))"
      ]
    },
    {
      "cell_type": "markdown",
      "metadata": {
        "id": "sZbRM5RMk9TQ"
      },
      "source": [
        "##Neural Network"
      ]
    },
    {
      "cell_type": "code",
      "execution_count": 45,
      "metadata": {
        "id": "DNb9EkOqlAVR"
      },
      "outputs": [],
      "source": [
        "#  Custom F1 + F2 Callback with Checkpointing\n",
        "class F1F2CheckpointCallback(Callback):\n",
        "    def __init__(self, X_val, y_val, model_path):\n",
        "        super().__init__()\n",
        "        self.X_val = X_val\n",
        "        self.y_val = y_val\n",
        "        self.best_f2 = 0\n",
        "        self.model_path = model_path\n",
        "\n",
        "    def on_epoch_end(self, epoch, logs=None):\n",
        "        y_pred_probs = self.model.predict(self.X_val, verbose=0)\n",
        "        y_pred = (y_pred_probs >= 0.5).astype(int)\n",
        "\n",
        "        f1 = f1_score(self.y_val, y_pred)\n",
        "        f2 = fbeta_score(self.y_val, y_pred, beta=2)\n",
        "\n",
        "        print(f\"📊 val_f1: {f1:.4f} | val_f2: {f2:.4f}\")\n",
        "\n",
        "        if f2 > self.best_f2:\n",
        "            print(\"💾 F2 improved! Saving best weights...\")\n",
        "            self.best_f2 = f2\n",
        "            self.model.save_weights(self.model_path)"
      ]
    },
    {
      "cell_type": "code",
      "execution_count": 46,
      "metadata": {
        "id": "7t_t45Xgq-IT"
      },
      "outputs": [],
      "source": [
        "# Model Checkpoint Path\n",
        "checkpoint_path = \"/content/best_model.weights.h5\"\n",
        "\n",
        "# Build Neural Network\n",
        "def build_model():\n",
        "  model = Sequential([\n",
        "      Dense(512, activation='relu', input_shape=(X_train.shape[1],)),\n",
        "      Dropout(0.2),\n",
        "      Dense(256, activation='relu'),\n",
        "      Dense(128, activation='relu'),\n",
        "      Dense(64, activation='relu'),\n",
        "      Dense(32, activation='relu'),\n",
        "      Dense(1, activation='sigmoid')\n",
        "  ])\n",
        "\n",
        "  #  Compile Model\n",
        "  model.compile(\n",
        "      loss='binary_crossentropy',\n",
        "      optimizer='adam',\n",
        "      metrics=[\n",
        "          tf.keras.metrics.BinaryAccuracy(name='accuracy'),\n",
        "          tf.keras.metrics.Precision(name='precision'),\n",
        "          tf.keras.metrics.AUC(name='auc')\n",
        "      ]\n",
        "  )\n",
        "  return model\n",
        "\n",
        "# model.summary()"
      ]
    },
    {
      "cell_type": "code",
      "execution_count": 47,
      "metadata": {
        "colab": {
          "base_uri": "https://localhost:8080/"
        },
        "id": "FFiU8ao7rQYL",
        "outputId": "046eb19b-0f3d-44f2-afbb-cb11f4540dd7"
      },
      "outputs": [
        {
          "name": "stdout",
          "output_type": "stream",
          "text": [
            "Epoch 1/100\n"
          ]
        },
        {
          "name": "stderr",
          "output_type": "stream",
          "text": [
            "/usr/local/lib/python3.11/dist-packages/keras/src/layers/core/dense.py:87: UserWarning: Do not pass an `input_shape`/`input_dim` argument to a layer. When using Sequential models, prefer using an `Input(shape)` object as the first layer in the model instead.\n",
            "  super().__init__(activity_regularizer=activity_regularizer, **kwargs)\n"
          ]
        },
        {
          "name": "stdout",
          "output_type": "stream",
          "text": [
            "\u001b[1m127/128\u001b[0m \u001b[32m━━━━━━━━━━━━━━━━━━━\u001b[0m\u001b[37m━\u001b[0m \u001b[1m0s\u001b[0m 25ms/step - accuracy: 0.6855 - auc: 0.7435 - loss: 0.5943 - precision: 0.7173📊 val_f1: 0.6855 | val_f2: 0.6409\n",
            "💾 F2 improved! Saving best weights...\n",
            "\u001b[1m128/128\u001b[0m \u001b[32m━━━━━━━━━━━━━━━━━━━━\u001b[0m\u001b[37m\u001b[0m \u001b[1m17s\u001b[0m 47ms/step - accuracy: 0.6857 - auc: 0.7438 - loss: 0.5941 - precision: 0.7177 - val_accuracy: 0.7101 - val_auc: 0.7937 - val_loss: 0.5524 - val_precision: 0.7754\n",
            "Epoch 2/100\n",
            "\u001b[1m127/128\u001b[0m \u001b[32m━━━━━━━━━━━━━━━━━━━\u001b[0m\u001b[37m━\u001b[0m \u001b[1m0s\u001b[0m 21ms/step - accuracy: 0.7112 - auc: 0.7863 - loss: 0.5564 - precision: 0.7565📊 val_f1: 0.7075 | val_f2: 0.6785\n",
            "💾 F2 improved! Saving best weights...\n",
            "\u001b[1m128/128\u001b[0m \u001b[32m━━━━━━━━━━━━━━━━━━━━\u001b[0m\u001b[37m\u001b[0m \u001b[1m8s\u001b[0m 30ms/step - accuracy: 0.7112 - auc: 0.7863 - loss: 0.5564 - precision: 0.7564 - val_accuracy: 0.7192 - val_auc: 0.8010 - val_loss: 0.5386 - val_precision: 0.7619\n",
            "Epoch 3/100\n",
            "\u001b[1m125/128\u001b[0m \u001b[32m━━━━━━━━━━━━━━━━━━━\u001b[0m\u001b[37m━\u001b[0m \u001b[1m0s\u001b[0m 11ms/step - accuracy: 0.7180 - auc: 0.7954 - loss: 0.5465 - precision: 0.7435📊 val_f1: 0.7264 | val_f2: 0.7082\n",
            "💾 F2 improved! Saving best weights...\n",
            "\u001b[1m128/128\u001b[0m \u001b[32m━━━━━━━━━━━━━━━━━━━━\u001b[0m\u001b[37m\u001b[0m \u001b[1m4s\u001b[0m 19ms/step - accuracy: 0.7180 - auc: 0.7954 - loss: 0.5464 - precision: 0.7434 - val_accuracy: 0.7302 - val_auc: 0.8096 - val_loss: 0.5298 - val_precision: 0.7590\n",
            "Epoch 4/100\n",
            "\u001b[1m125/128\u001b[0m \u001b[32m━━━━━━━━━━━━━━━━━━━\u001b[0m\u001b[37m━\u001b[0m \u001b[1m0s\u001b[0m 11ms/step - accuracy: 0.7199 - auc: 0.8021 - loss: 0.5398 - precision: 0.7471📊 val_f1: 0.7117 | val_f2: 0.6788\n",
            "\u001b[1m128/128\u001b[0m \u001b[32m━━━━━━━━━━━━━━━━━━━━\u001b[0m\u001b[37m\u001b[0m \u001b[1m3s\u001b[0m 20ms/step - accuracy: 0.7199 - auc: 0.8021 - loss: 0.5398 - precision: 0.7469 - val_accuracy: 0.7257 - val_auc: 0.8119 - val_loss: 0.5261 - val_precision: 0.7743\n",
            "Epoch 5/100\n",
            "\u001b[1m125/128\u001b[0m \u001b[32m━━━━━━━━━━━━━━━━━━━\u001b[0m\u001b[37m━\u001b[0m \u001b[1m0s\u001b[0m 11ms/step - accuracy: 0.7293 - auc: 0.8105 - loss: 0.5293 - precision: 0.7524📊 val_f1: 0.7303 | val_f2: 0.7176\n",
            "💾 F2 improved! Saving best weights...\n",
            "\u001b[1m128/128\u001b[0m \u001b[32m━━━━━━━━━━━━━━━━━━━━\u001b[0m\u001b[37m\u001b[0m \u001b[1m2s\u001b[0m 17ms/step - accuracy: 0.7292 - auc: 0.8105 - loss: 0.5293 - precision: 0.7523 - val_accuracy: 0.7306 - val_auc: 0.8124 - val_loss: 0.5293 - val_precision: 0.7525\n",
            "Epoch 6/100\n",
            "\u001b[1m128/128\u001b[0m \u001b[32m━━━━━━━━━━━━━━━━━━━━\u001b[0m\u001b[37m\u001b[0m \u001b[1m0s\u001b[0m 12ms/step - accuracy: 0.7341 - auc: 0.8149 - loss: 0.5240 - precision: 0.7453📊 val_f1: 0.7328 | val_f2: 0.7085\n",
            "\u001b[1m128/128\u001b[0m \u001b[32m━━━━━━━━━━━━━━━━━━━━\u001b[0m\u001b[37m\u001b[0m \u001b[1m3s\u001b[0m 21ms/step - accuracy: 0.7341 - auc: 0.8149 - loss: 0.5240 - precision: 0.7453 - val_accuracy: 0.7400 - val_auc: 0.8201 - val_loss: 0.5198 - val_precision: 0.7771\n",
            "Epoch 7/100\n",
            "\u001b[1m127/128\u001b[0m \u001b[32m━━━━━━━━━━━━━━━━━━━\u001b[0m\u001b[37m━\u001b[0m \u001b[1m0s\u001b[0m 10ms/step - accuracy: 0.7331 - auc: 0.8191 - loss: 0.5186 - precision: 0.7453📊 val_f1: 0.7398 | val_f2: 0.7245\n",
            "💾 F2 improved! Saving best weights...\n",
            "\u001b[1m128/128\u001b[0m \u001b[32m━━━━━━━━━━━━━━━━━━━━\u001b[0m\u001b[37m\u001b[0m \u001b[1m4s\u001b[0m 16ms/step - accuracy: 0.7331 - auc: 0.8192 - loss: 0.5186 - precision: 0.7452 - val_accuracy: 0.7414 - val_auc: 0.8242 - val_loss: 0.5132 - val_precision: 0.7668\n",
            "Epoch 8/100\n",
            "\u001b[1m123/128\u001b[0m \u001b[32m━━━━━━━━━━━━━━━━━━━\u001b[0m\u001b[37m━\u001b[0m \u001b[1m0s\u001b[0m 10ms/step - accuracy: 0.7476 - auc: 0.8347 - loss: 0.4996 - precision: 0.7517📊 val_f1: 0.7417 | val_f2: 0.7271\n",
            "💾 F2 improved! Saving best weights...\n",
            "\u001b[1m128/128\u001b[0m \u001b[32m━━━━━━━━━━━━━━━━━━━━\u001b[0m\u001b[37m\u001b[0m \u001b[1m3s\u001b[0m 17ms/step - accuracy: 0.7474 - auc: 0.8344 - loss: 0.5000 - precision: 0.7516 - val_accuracy: 0.7429 - val_auc: 0.8276 - val_loss: 0.5069 - val_precision: 0.7674\n",
            "Epoch 9/100\n",
            "\u001b[1m126/128\u001b[0m \u001b[32m━━━━━━━━━━━━━━━━━━━\u001b[0m\u001b[37m━\u001b[0m \u001b[1m0s\u001b[0m 10ms/step - accuracy: 0.7488 - auc: 0.8348 - loss: 0.4981 - precision: 0.7504📊 val_f1: 0.7618 | val_f2: 0.7681\n",
            "💾 F2 improved! Saving best weights...\n",
            "\u001b[1m128/128\u001b[0m \u001b[32m━━━━━━━━━━━━━━━━━━━━\u001b[0m\u001b[37m\u001b[0m \u001b[1m2s\u001b[0m 16ms/step - accuracy: 0.7488 - auc: 0.8347 - loss: 0.4982 - precision: 0.7503 - val_accuracy: 0.7516 - val_auc: 0.8354 - val_loss: 0.4979 - val_precision: 0.7515\n",
            "Epoch 10/100\n",
            "\u001b[1m128/128\u001b[0m \u001b[32m━━━━━━━━━━━━━━━━━━━━\u001b[0m\u001b[37m\u001b[0m \u001b[1m0s\u001b[0m 12ms/step - accuracy: 0.7569 - auc: 0.8412 - loss: 0.4907 - precision: 0.7569📊 val_f1: 0.7647 | val_f2: 0.7751\n",
            "💾 F2 improved! Saving best weights...\n",
            "\u001b[1m128/128\u001b[0m \u001b[32m━━━━━━━━━━━━━━━━━━━━\u001b[0m\u001b[37m\u001b[0m \u001b[1m3s\u001b[0m 21ms/step - accuracy: 0.7568 - auc: 0.8412 - loss: 0.4906 - precision: 0.7568 - val_accuracy: 0.7524 - val_auc: 0.8385 - val_loss: 0.4939 - val_precision: 0.7480\n",
            "Epoch 11/100\n",
            "\u001b[1m126/128\u001b[0m \u001b[32m━━━━━━━━━━━━━━━━━━━\u001b[0m\u001b[37m━\u001b[0m \u001b[1m0s\u001b[0m 15ms/step - accuracy: 0.7630 - auc: 0.8510 - loss: 0.4763 - precision: 0.7566📊 val_f1: 0.7632 | val_f2: 0.7634\n",
            "\u001b[1m128/128\u001b[0m \u001b[32m━━━━━━━━━━━━━━━━━━━━\u001b[0m\u001b[37m\u001b[0m \u001b[1m3s\u001b[0m 22ms/step - accuracy: 0.7631 - auc: 0.8509 - loss: 0.4763 - precision: 0.7567 - val_accuracy: 0.7562 - val_auc: 0.8443 - val_loss: 0.4859 - val_precision: 0.7627\n",
            "Epoch 12/100\n",
            "\u001b[1m126/128\u001b[0m \u001b[32m━━━━━━━━━━━━━━━━━━━\u001b[0m\u001b[37m━\u001b[0m \u001b[1m0s\u001b[0m 10ms/step - accuracy: 0.7693 - auc: 0.8567 - loss: 0.4678 - precision: 0.7632📊 val_f1: 0.7636 | val_f2: 0.7625\n",
            "\u001b[1m128/128\u001b[0m \u001b[32m━━━━━━━━━━━━━━━━━━━━\u001b[0m\u001b[37m\u001b[0m \u001b[1m2s\u001b[0m 16ms/step - accuracy: 0.7692 - auc: 0.8566 - loss: 0.4680 - precision: 0.7631 - val_accuracy: 0.7575 - val_auc: 0.8488 - val_loss: 0.4798 - val_precision: 0.7655\n",
            "Epoch 13/100\n",
            "\u001b[1m127/128\u001b[0m \u001b[32m━━━━━━━━━━━━━━━━━━━\u001b[0m\u001b[37m━\u001b[0m \u001b[1m0s\u001b[0m 10ms/step - accuracy: 0.7772 - auc: 0.8633 - loss: 0.4585 - precision: 0.7745📊 val_f1: 0.7761 | val_f2: 0.7848\n",
            "💾 F2 improved! Saving best weights...\n",
            "\u001b[1m128/128\u001b[0m \u001b[32m━━━━━━━━━━━━━━━━━━━━\u001b[0m\u001b[37m\u001b[0m \u001b[1m3s\u001b[0m 16ms/step - accuracy: 0.7771 - auc: 0.8633 - loss: 0.4585 - precision: 0.7743 - val_accuracy: 0.7653 - val_auc: 0.8517 - val_loss: 0.4744 - val_precision: 0.7619\n",
            "Epoch 14/100\n",
            "\u001b[1m126/128\u001b[0m \u001b[32m━━━━━━━━━━━━━━━━━━━\u001b[0m\u001b[37m━\u001b[0m \u001b[1m0s\u001b[0m 10ms/step - accuracy: 0.7819 - auc: 0.8671 - loss: 0.4521 - precision: 0.7705📊 val_f1: 0.7761 | val_f2: 0.7827\n",
            "\u001b[1m128/128\u001b[0m \u001b[32m━━━━━━━━━━━━━━━━━━━━\u001b[0m\u001b[37m\u001b[0m \u001b[1m3s\u001b[0m 17ms/step - accuracy: 0.7819 - auc: 0.8671 - loss: 0.4521 - precision: 0.7704 - val_accuracy: 0.7664 - val_auc: 0.8552 - val_loss: 0.4715 - val_precision: 0.7653\n",
            "Epoch 15/100\n",
            "\u001b[1m125/128\u001b[0m \u001b[32m━━━━━━━━━━━━━━━━━━━\u001b[0m\u001b[37m━\u001b[0m \u001b[1m0s\u001b[0m 11ms/step - accuracy: 0.7874 - auc: 0.8743 - loss: 0.4410 - precision: 0.7770📊 val_f1: 0.7883 | val_f2: 0.7973\n",
            "💾 F2 improved! Saving best weights...\n",
            "\u001b[1m128/128\u001b[0m \u001b[32m━━━━━━━━━━━━━━━━━━━━\u001b[0m\u001b[37m\u001b[0m \u001b[1m3s\u001b[0m 20ms/step - accuracy: 0.7874 - auc: 0.8742 - loss: 0.4411 - precision: 0.7769 - val_accuracy: 0.7781 - val_auc: 0.8620 - val_loss: 0.4608 - val_precision: 0.7739\n",
            "Epoch 16/100\n",
            "\u001b[1m123/128\u001b[0m \u001b[32m━━━━━━━━━━━━━━━━━━━\u001b[0m\u001b[37m━\u001b[0m \u001b[1m0s\u001b[0m 11ms/step - accuracy: 0.7984 - auc: 0.8815 - loss: 0.4290 - precision: 0.7886📊 val_f1: 0.7949 | val_f2: 0.8152\n",
            "💾 F2 improved! Saving best weights...\n",
            "\u001b[1m128/128\u001b[0m \u001b[32m━━━━━━━━━━━━━━━━━━━━\u001b[0m\u001b[37m\u001b[0m \u001b[1m5s\u001b[0m 17ms/step - accuracy: 0.7981 - auc: 0.8813 - loss: 0.4293 - precision: 0.7882 - val_accuracy: 0.7800 - val_auc: 0.8633 - val_loss: 0.4603 - val_precision: 0.7634\n",
            "Epoch 17/100\n",
            "\u001b[1m127/128\u001b[0m \u001b[32m━━━━━━━━━━━━━━━━━━━\u001b[0m\u001b[37m━\u001b[0m \u001b[1m0s\u001b[0m 10ms/step - accuracy: 0.8001 - auc: 0.8880 - loss: 0.4184 - precision: 0.7860📊 val_f1: 0.7949 | val_f2: 0.8110\n",
            "\u001b[1m128/128\u001b[0m \u001b[32m━━━━━━━━━━━━━━━━━━━━\u001b[0m\u001b[37m\u001b[0m \u001b[1m2s\u001b[0m 17ms/step - accuracy: 0.8000 - auc: 0.8880 - loss: 0.4185 - precision: 0.7859 - val_accuracy: 0.7818 - val_auc: 0.8667 - val_loss: 0.4529 - val_precision: 0.7694\n",
            "Epoch 18/100\n",
            "\u001b[1m127/128\u001b[0m \u001b[32m━━━━━━━━━━━━━━━━━━━\u001b[0m\u001b[37m━\u001b[0m \u001b[1m0s\u001b[0m 10ms/step - accuracy: 0.8019 - auc: 0.8888 - loss: 0.4162 - precision: 0.7862📊 val_f1: 0.7949 | val_f2: 0.8079\n",
            "\u001b[1m128/128\u001b[0m \u001b[32m━━━━━━━━━━━━━━━━━━━━\u001b[0m\u001b[37m\u001b[0m \u001b[1m2s\u001b[0m 17ms/step - accuracy: 0.8019 - auc: 0.8888 - loss: 0.4162 - precision: 0.7862 - val_accuracy: 0.7831 - val_auc: 0.8715 - val_loss: 0.4457 - val_precision: 0.7740\n",
            "Epoch 19/100\n",
            "\u001b[1m125/128\u001b[0m \u001b[32m━━━━━━━━━━━━━━━━━━━\u001b[0m\u001b[37m━\u001b[0m \u001b[1m0s\u001b[0m 10ms/step - accuracy: 0.8092 - auc: 0.8958 - loss: 0.4026 - precision: 0.7956📊 val_f1: 0.8007 | val_f2: 0.8084\n",
            "\u001b[1m128/128\u001b[0m \u001b[32m━━━━━━━━━━━━━━━━━━━━\u001b[0m\u001b[37m\u001b[0m \u001b[1m2s\u001b[0m 17ms/step - accuracy: 0.8092 - auc: 0.8957 - loss: 0.4027 - precision: 0.7955 - val_accuracy: 0.7917 - val_auc: 0.8759 - val_loss: 0.4417 - val_precision: 0.7882\n",
            "Epoch 20/100\n",
            "\u001b[1m125/128\u001b[0m \u001b[32m━━━━━━━━━━━━━━━━━━━\u001b[0m\u001b[37m━\u001b[0m \u001b[1m0s\u001b[0m 16ms/step - accuracy: 0.8175 - auc: 0.8998 - loss: 0.3960 - precision: 0.8016📊 val_f1: 0.8093 | val_f2: 0.8336\n",
            "💾 F2 improved! Saving best weights...\n",
            "\u001b[1m128/128\u001b[0m \u001b[32m━━━━━━━━━━━━━━━━━━━━\u001b[0m\u001b[37m\u001b[0m \u001b[1m3s\u001b[0m 22ms/step - accuracy: 0.8173 - auc: 0.8997 - loss: 0.3962 - precision: 0.8015 - val_accuracy: 0.7938 - val_auc: 0.8738 - val_loss: 0.4468 - val_precision: 0.7717\n",
            "Epoch 21/100\n",
            "\u001b[1m123/128\u001b[0m \u001b[32m━━━━━━━━━━━━━━━━━━━\u001b[0m\u001b[37m━\u001b[0m \u001b[1m0s\u001b[0m 10ms/step - accuracy: 0.8223 - auc: 0.9042 - loss: 0.3872 - precision: 0.8043📊 val_f1: 0.8091 | val_f2: 0.8397\n",
            "💾 F2 improved! Saving best weights...\n",
            "\u001b[1m128/128\u001b[0m \u001b[32m━━━━━━━━━━━━━━━━━━━━\u001b[0m\u001b[37m\u001b[0m \u001b[1m2s\u001b[0m 16ms/step - accuracy: 0.8221 - auc: 0.9041 - loss: 0.3874 - precision: 0.8043 - val_accuracy: 0.7910 - val_auc: 0.8749 - val_loss: 0.4464 - val_precision: 0.7628\n",
            "Epoch 22/100\n",
            "\u001b[1m125/128\u001b[0m \u001b[32m━━━━━━━━━━━━━━━━━━━\u001b[0m\u001b[37m━\u001b[0m \u001b[1m0s\u001b[0m 11ms/step - accuracy: 0.8232 - auc: 0.9085 - loss: 0.3796 - precision: 0.8069📊 val_f1: 0.8135 | val_f2: 0.8406\n",
            "💾 F2 improved! Saving best weights...\n",
            "\u001b[1m128/128\u001b[0m \u001b[32m━━━━━━━━━━━━━━━━━━━━\u001b[0m\u001b[37m\u001b[0m \u001b[1m2s\u001b[0m 18ms/step - accuracy: 0.8231 - auc: 0.9084 - loss: 0.3797 - precision: 0.8069 - val_accuracy: 0.7973 - val_auc: 0.8753 - val_loss: 0.4467 - val_precision: 0.7721\n",
            "Epoch 23/100\n",
            "\u001b[1m125/128\u001b[0m \u001b[32m━━━━━━━━━━━━━━━━━━━\u001b[0m\u001b[37m━\u001b[0m \u001b[1m0s\u001b[0m 11ms/step - accuracy: 0.8308 - auc: 0.9149 - loss: 0.3652 - precision: 0.8135📊 val_f1: 0.8117 | val_f2: 0.8333\n",
            "\u001b[1m128/128\u001b[0m \u001b[32m━━━━━━━━━━━━━━━━━━━━\u001b[0m\u001b[37m\u001b[0m \u001b[1m2s\u001b[0m 18ms/step - accuracy: 0.8307 - auc: 0.9148 - loss: 0.3654 - precision: 0.8134 - val_accuracy: 0.7976 - val_auc: 0.8808 - val_loss: 0.4373 - val_precision: 0.7781\n",
            "Epoch 24/100\n",
            "\u001b[1m125/128\u001b[0m \u001b[32m━━━━━━━━━━━━━━━━━━━\u001b[0m\u001b[37m━\u001b[0m \u001b[1m0s\u001b[0m 10ms/step - accuracy: 0.8302 - auc: 0.9148 - loss: 0.3658 - precision: 0.8162📊 val_f1: 0.8137 | val_f2: 0.8208\n",
            "\u001b[1m128/128\u001b[0m \u001b[32m━━━━━━━━━━━━━━━━━━━━\u001b[0m\u001b[37m\u001b[0m \u001b[1m2s\u001b[0m 17ms/step - accuracy: 0.8302 - auc: 0.9147 - loss: 0.3659 - precision: 0.8162 - val_accuracy: 0.8055 - val_auc: 0.8850 - val_loss: 0.4305 - val_precision: 0.8020\n",
            "Epoch 25/100\n",
            "\u001b[1m127/128\u001b[0m \u001b[32m━━━━━━━━━━━━━━━━━━━\u001b[0m\u001b[37m━\u001b[0m \u001b[1m0s\u001b[0m 18ms/step - accuracy: 0.8374 - auc: 0.9190 - loss: 0.3579 - precision: 0.8240📊 val_f1: 0.8172 | val_f2: 0.8258\n",
            "\u001b[1m128/128\u001b[0m \u001b[32m━━━━━━━━━━━━━━━━━━━━\u001b[0m\u001b[37m\u001b[0m \u001b[1m3s\u001b[0m 24ms/step - accuracy: 0.8374 - auc: 0.9190 - loss: 0.3579 - precision: 0.8239 - val_accuracy: 0.8087 - val_auc: 0.8874 - val_loss: 0.4300 - val_precision: 0.8034\n",
            "Epoch 26/100\n",
            "\u001b[1m127/128\u001b[0m \u001b[32m━━━━━━━━━━━━━━━━━━━\u001b[0m\u001b[37m━\u001b[0m \u001b[1m0s\u001b[0m 11ms/step - accuracy: 0.8409 - auc: 0.9255 - loss: 0.3436 - precision: 0.8296📊 val_f1: 0.8230 | val_f2: 0.8387\n",
            "\u001b[1m128/128\u001b[0m \u001b[32m━━━━━━━━━━━━━━━━━━━━\u001b[0m\u001b[37m\u001b[0m \u001b[1m4s\u001b[0m 18ms/step - accuracy: 0.8408 - auc: 0.9254 - loss: 0.3437 - precision: 0.8295 - val_accuracy: 0.8121 - val_auc: 0.8869 - val_loss: 0.4260 - val_precision: 0.7982\n",
            "Epoch 27/100\n",
            "\u001b[1m127/128\u001b[0m \u001b[32m━━━━━━━━━━━━━━━━━━━\u001b[0m\u001b[37m━\u001b[0m \u001b[1m0s\u001b[0m 11ms/step - accuracy: 0.8430 - auc: 0.9244 - loss: 0.3444 - precision: 0.8297📊 val_f1: 0.8244 | val_f2: 0.8455\n",
            "💾 F2 improved! Saving best weights...\n",
            "\u001b[1m128/128\u001b[0m \u001b[32m━━━━━━━━━━━━━━━━━━━━\u001b[0m\u001b[37m\u001b[0m \u001b[1m3s\u001b[0m 18ms/step - accuracy: 0.8430 - auc: 0.9244 - loss: 0.3444 - precision: 0.8297 - val_accuracy: 0.8115 - val_auc: 0.8924 - val_loss: 0.4205 - val_precision: 0.7915\n",
            "Epoch 28/100\n",
            "\u001b[1m124/128\u001b[0m \u001b[32m━━━━━━━━━━━━━━━━━━━\u001b[0m\u001b[37m━\u001b[0m \u001b[1m0s\u001b[0m 10ms/step - accuracy: 0.8496 - auc: 0.9300 - loss: 0.3324 - precision: 0.8308📊 val_f1: 0.8193 | val_f2: 0.8345\n",
            "\u001b[1m128/128\u001b[0m \u001b[32m━━━━━━━━━━━━━━━━━━━━\u001b[0m\u001b[37m\u001b[0m \u001b[1m2s\u001b[0m 16ms/step - accuracy: 0.8494 - auc: 0.9298 - loss: 0.3327 - precision: 0.8307 - val_accuracy: 0.8083 - val_auc: 0.8911 - val_loss: 0.4243 - val_precision: 0.7952\n",
            "Epoch 29/100\n",
            "\u001b[1m128/128\u001b[0m \u001b[32m━━━━━━━━━━━━━━━━━━━━\u001b[0m\u001b[37m\u001b[0m \u001b[1m0s\u001b[0m 16ms/step - accuracy: 0.8538 - auc: 0.9338 - loss: 0.3241 - precision: 0.8363📊 val_f1: 0.8328 | val_f2: 0.8475\n",
            "💾 F2 improved! Saving best weights...\n",
            "\u001b[1m128/128\u001b[0m \u001b[32m━━━━━━━━━━━━━━━━━━━━\u001b[0m\u001b[37m\u001b[0m \u001b[1m3s\u001b[0m 24ms/step - accuracy: 0.8537 - auc: 0.9338 - loss: 0.3242 - precision: 0.8363 - val_accuracy: 0.8229 - val_auc: 0.8979 - val_loss: 0.4171 - val_precision: 0.8094\n",
            "Epoch 30/100\n",
            "\u001b[1m125/128\u001b[0m \u001b[32m━━━━━━━━━━━━━━━━━━━\u001b[0m\u001b[37m━\u001b[0m \u001b[1m0s\u001b[0m 10ms/step - accuracy: 0.8548 - auc: 0.9349 - loss: 0.3207 - precision: 0.8381📊 val_f1: 0.8265 | val_f2: 0.8380\n",
            "\u001b[1m128/128\u001b[0m \u001b[32m━━━━━━━━━━━━━━━━━━━━\u001b[0m\u001b[37m\u001b[0m \u001b[1m4s\u001b[0m 17ms/step - accuracy: 0.8547 - auc: 0.9348 - loss: 0.3208 - precision: 0.8380 - val_accuracy: 0.8174 - val_auc: 0.8938 - val_loss: 0.4322 - val_precision: 0.8080\n",
            "Epoch 31/100\n",
            "\u001b[1m125/128\u001b[0m \u001b[32m━━━━━━━━━━━━━━━━━━━\u001b[0m\u001b[37m━\u001b[0m \u001b[1m0s\u001b[0m 10ms/step - accuracy: 0.8573 - auc: 0.9355 - loss: 0.3198 - precision: 0.8412📊 val_f1: 0.8316 | val_f2: 0.8499\n",
            "💾 F2 improved! Saving best weights...\n",
            "\u001b[1m128/128\u001b[0m \u001b[32m━━━━━━━━━━━━━━━━━━━━\u001b[0m\u001b[37m\u001b[0m \u001b[1m2s\u001b[0m 16ms/step - accuracy: 0.8572 - auc: 0.9355 - loss: 0.3199 - precision: 0.8410 - val_accuracy: 0.8203 - val_auc: 0.8980 - val_loss: 0.4190 - val_precision: 0.8028\n",
            "Epoch 32/100\n",
            "\u001b[1m128/128\u001b[0m \u001b[32m━━━━━━━━━━━━━━━━━━━━\u001b[0m\u001b[37m\u001b[0m \u001b[1m0s\u001b[0m 10ms/step - accuracy: 0.8606 - auc: 0.9400 - loss: 0.3081 - precision: 0.8445📊 val_f1: 0.8331 | val_f2: 0.8639\n",
            "💾 F2 improved! Saving best weights...\n",
            "\u001b[1m128/128\u001b[0m \u001b[32m━━━━━━━━━━━━━━━━━━━━\u001b[0m\u001b[37m\u001b[0m \u001b[1m3s\u001b[0m 18ms/step - accuracy: 0.8605 - auc: 0.9400 - loss: 0.3082 - precision: 0.8445 - val_accuracy: 0.8174 - val_auc: 0.8933 - val_loss: 0.4292 - val_precision: 0.7862\n",
            "Epoch 33/100\n",
            "\u001b[1m127/128\u001b[0m \u001b[32m━━━━━━━━━━━━━━━━━━━\u001b[0m\u001b[37m━\u001b[0m \u001b[1m0s\u001b[0m 15ms/step - accuracy: 0.8660 - auc: 0.9427 - loss: 0.3009 - precision: 0.8488📊 val_f1: 0.8359 | val_f2: 0.8611\n",
            "\u001b[1m128/128\u001b[0m \u001b[32m━━━━━━━━━━━━━━━━━━━━\u001b[0m\u001b[37m\u001b[0m \u001b[1m3s\u001b[0m 24ms/step - accuracy: 0.8660 - auc: 0.9426 - loss: 0.3010 - precision: 0.8488 - val_accuracy: 0.8225 - val_auc: 0.8974 - val_loss: 0.4214 - val_precision: 0.7970\n",
            "Epoch 34/100\n",
            "\u001b[1m128/128\u001b[0m \u001b[32m━━━━━━━━━━━━━━━━━━━━\u001b[0m\u001b[37m\u001b[0m \u001b[1m0s\u001b[0m 10ms/step - accuracy: 0.8645 - auc: 0.9433 - loss: 0.2980 - precision: 0.8470📊 val_f1: 0.8385 | val_f2: 0.8585\n",
            "\u001b[1m128/128\u001b[0m \u001b[32m━━━━━━━━━━━━━━━━━━━━\u001b[0m\u001b[37m\u001b[0m \u001b[1m2s\u001b[0m 19ms/step - accuracy: 0.8645 - auc: 0.9433 - loss: 0.2980 - precision: 0.8470 - val_accuracy: 0.8272 - val_auc: 0.9002 - val_loss: 0.4228 - val_precision: 0.8072\n",
            "Epoch 35/100\n",
            "\u001b[1m127/128\u001b[0m \u001b[32m━━━━━━━━━━━━━━━━━━━\u001b[0m\u001b[37m━\u001b[0m \u001b[1m0s\u001b[0m 11ms/step - accuracy: 0.8647 - auc: 0.9439 - loss: 0.2973 - precision: 0.8524📊 val_f1: 0.8401 | val_f2: 0.8626\n",
            "\u001b[1m128/128\u001b[0m \u001b[32m━━━━━━━━━━━━━━━━━━━━\u001b[0m\u001b[37m\u001b[0m \u001b[1m2s\u001b[0m 17ms/step - accuracy: 0.8647 - auc: 0.9439 - loss: 0.2974 - precision: 0.8523 - val_accuracy: 0.8280 - val_auc: 0.9004 - val_loss: 0.4102 - val_precision: 0.8051\n",
            "Epoch 36/100\n",
            "\u001b[1m125/128\u001b[0m \u001b[32m━━━━━━━━━━━━━━━━━━━\u001b[0m\u001b[37m━\u001b[0m \u001b[1m0s\u001b[0m 10ms/step - accuracy: 0.8717 - auc: 0.9488 - loss: 0.2853 - precision: 0.8554📊 val_f1: 0.8413 | val_f2: 0.8750\n",
            "💾 F2 improved! Saving best weights...\n",
            "\u001b[1m128/128\u001b[0m \u001b[32m━━━━━━━━━━━━━━━━━━━━\u001b[0m\u001b[37m\u001b[0m \u001b[1m2s\u001b[0m 17ms/step - accuracy: 0.8717 - auc: 0.9487 - loss: 0.2855 - precision: 0.8553 - val_accuracy: 0.8256 - val_auc: 0.9015 - val_loss: 0.4224 - val_precision: 0.7906\n",
            "Epoch 37/100\n",
            "\u001b[1m127/128\u001b[0m \u001b[32m━━━━━━━━━━━━━━━━━━━\u001b[0m\u001b[37m━\u001b[0m \u001b[1m0s\u001b[0m 16ms/step - accuracy: 0.8733 - auc: 0.9492 - loss: 0.2844 - precision: 0.8515📊 val_f1: 0.8461 | val_f2: 0.8647\n",
            "\u001b[1m128/128\u001b[0m \u001b[32m━━━━━━━━━━━━━━━━━━━━\u001b[0m\u001b[37m\u001b[0m \u001b[1m4s\u001b[0m 28ms/step - accuracy: 0.8732 - auc: 0.9491 - loss: 0.2845 - precision: 0.8515 - val_accuracy: 0.8359 - val_auc: 0.9054 - val_loss: 0.4128 - val_precision: 0.8169\n",
            "Epoch 38/100\n",
            "\u001b[1m123/128\u001b[0m \u001b[32m━━━━━━━━━━━━━━━━━━━\u001b[0m\u001b[37m━\u001b[0m \u001b[1m0s\u001b[0m 11ms/step - accuracy: 0.8749 - auc: 0.9509 - loss: 0.2792 - precision: 0.8592📊 val_f1: 0.8403 | val_f2: 0.8546\n",
            "\u001b[1m128/128\u001b[0m \u001b[32m━━━━━━━━━━━━━━━━━━━━\u001b[0m\u001b[37m\u001b[0m \u001b[1m4s\u001b[0m 17ms/step - accuracy: 0.8748 - auc: 0.9508 - loss: 0.2796 - precision: 0.8591 - val_accuracy: 0.8310 - val_auc: 0.9075 - val_loss: 0.4078 - val_precision: 0.8174\n",
            "Epoch 39/100\n",
            "\u001b[1m124/128\u001b[0m \u001b[32m━━━━━━━━━━━━━━━━━━━\u001b[0m\u001b[37m━\u001b[0m \u001b[1m0s\u001b[0m 10ms/step - accuracy: 0.8756 - auc: 0.9521 - loss: 0.2761 - precision: 0.8614📊 val_f1: 0.8422 | val_f2: 0.8527\n",
            "\u001b[1m128/128\u001b[0m \u001b[32m━━━━━━━━━━━━━━━━━━━━\u001b[0m\u001b[37m\u001b[0m \u001b[1m2s\u001b[0m 17ms/step - accuracy: 0.8755 - auc: 0.9520 - loss: 0.2763 - precision: 0.8613 - val_accuracy: 0.8343 - val_auc: 0.9079 - val_loss: 0.4079 - val_precision: 0.8252\n",
            "Epoch 40/100\n",
            "\u001b[1m126/128\u001b[0m \u001b[32m━━━━━━━━━━━━━━━━━━━\u001b[0m\u001b[37m━\u001b[0m \u001b[1m0s\u001b[0m 11ms/step - accuracy: 0.8785 - auc: 0.9523 - loss: 0.2747 - precision: 0.8597📊 val_f1: 0.8491 | val_f2: 0.8704\n",
            "\u001b[1m128/128\u001b[0m \u001b[32m━━━━━━━━━━━━━━━━━━━━\u001b[0m\u001b[37m\u001b[0m \u001b[1m3s\u001b[0m 18ms/step - accuracy: 0.8784 - auc: 0.9523 - loss: 0.2747 - precision: 0.8597 - val_accuracy: 0.8382 - val_auc: 0.9075 - val_loss: 0.4137 - val_precision: 0.8159\n",
            "Epoch 41/100\n",
            "\u001b[1m123/128\u001b[0m \u001b[32m━━━━━━━━━━━━━━━━━━━\u001b[0m\u001b[37m━\u001b[0m \u001b[1m0s\u001b[0m 11ms/step - accuracy: 0.8803 - auc: 0.9539 - loss: 0.2702 - precision: 0.8607📊 val_f1: 0.8458 | val_f2: 0.8768\n",
            "💾 F2 improved! Saving best weights...\n",
            "\u001b[1m128/128\u001b[0m \u001b[32m━━━━━━━━━━━━━━━━━━━━\u001b[0m\u001b[37m\u001b[0m \u001b[1m2s\u001b[0m 18ms/step - accuracy: 0.8802 - auc: 0.9538 - loss: 0.2704 - precision: 0.8606 - val_accuracy: 0.8315 - val_auc: 0.9076 - val_loss: 0.4159 - val_precision: 0.7988\n",
            "Epoch 42/100\n",
            "\u001b[1m128/128\u001b[0m \u001b[32m━━━━━━━━━━━━━━━━━━━━\u001b[0m\u001b[37m\u001b[0m \u001b[1m0s\u001b[0m 18ms/step - accuracy: 0.8828 - auc: 0.9563 - loss: 0.2637 - precision: 0.8685📊 val_f1: 0.8440 | val_f2: 0.8753\n",
            "\u001b[1m128/128\u001b[0m \u001b[32m━━━━━━━━━━━━━━━━━━━━\u001b[0m\u001b[37m\u001b[0m \u001b[1m3s\u001b[0m 26ms/step - accuracy: 0.8828 - auc: 0.9563 - loss: 0.2637 - precision: 0.8685 - val_accuracy: 0.8294 - val_auc: 0.9037 - val_loss: 0.4231 - val_precision: 0.7965\n",
            "Epoch 43/100\n",
            "\u001b[1m125/128\u001b[0m \u001b[32m━━━━━━━━━━━━━━━━━━━\u001b[0m\u001b[37m━\u001b[0m \u001b[1m0s\u001b[0m 11ms/step - accuracy: 0.8813 - auc: 0.9563 - loss: 0.2631 - precision: 0.8639📊 val_f1: 0.8417 | val_f2: 0.8538\n",
            "\u001b[1m128/128\u001b[0m \u001b[32m━━━━━━━━━━━━━━━━━━━━\u001b[0m\u001b[37m\u001b[0m \u001b[1m4s\u001b[0m 17ms/step - accuracy: 0.8813 - auc: 0.9562 - loss: 0.2633 - precision: 0.8639 - val_accuracy: 0.8332 - val_auc: 0.9092 - val_loss: 0.4183 - val_precision: 0.8222\n",
            "Epoch 44/100\n",
            "\u001b[1m124/128\u001b[0m \u001b[32m━━━━━━━━━━━━━━━━━━━\u001b[0m\u001b[37m━\u001b[0m \u001b[1m0s\u001b[0m 11ms/step - accuracy: 0.8840 - auc: 0.9576 - loss: 0.2596 - precision: 0.8688📊 val_f1: 0.8469 | val_f2: 0.8760\n",
            "\u001b[1m128/128\u001b[0m \u001b[32m━━━━━━━━━━━━━━━━━━━━\u001b[0m\u001b[37m\u001b[0m \u001b[1m2s\u001b[0m 16ms/step - accuracy: 0.8840 - auc: 0.9575 - loss: 0.2597 - precision: 0.8687 - val_accuracy: 0.8333 - val_auc: 0.9070 - val_loss: 0.4326 - val_precision: 0.8025\n",
            "Epoch 45/100\n",
            "\u001b[1m128/128\u001b[0m \u001b[32m━━━━━━━━━━━━━━━━━━━━\u001b[0m\u001b[37m\u001b[0m \u001b[1m0s\u001b[0m 10ms/step - accuracy: 0.8879 - auc: 0.9594 - loss: 0.2537 - precision: 0.8727📊 val_f1: 0.8475 | val_f2: 0.8598\n",
            "\u001b[1m128/128\u001b[0m \u001b[32m━━━━━━━━━━━━━━━━━━━━\u001b[0m\u001b[37m\u001b[0m \u001b[1m2s\u001b[0m 16ms/step - accuracy: 0.8879 - auc: 0.9594 - loss: 0.2538 - precision: 0.8727 - val_accuracy: 0.8393 - val_auc: 0.9105 - val_loss: 0.4135 - val_precision: 0.8277\n",
            "Epoch 46/100\n",
            "\u001b[1m125/128\u001b[0m \u001b[32m━━━━━━━━━━━━━━━━━━━\u001b[0m\u001b[37m━\u001b[0m \u001b[1m0s\u001b[0m 12ms/step - accuracy: 0.8931 - auc: 0.9630 - loss: 0.2434 - precision: 0.8779📊 val_f1: 0.8489 | val_f2: 0.8674\n",
            "\u001b[1m128/128\u001b[0m \u001b[32m━━━━━━━━━━━━━━━━━━━━\u001b[0m\u001b[37m\u001b[0m \u001b[1m3s\u001b[0m 26ms/step - accuracy: 0.8930 - auc: 0.9629 - loss: 0.2436 - precision: 0.8777 - val_accuracy: 0.8388 - val_auc: 0.9093 - val_loss: 0.4200 - val_precision: 0.8197\n",
            "Epoch 47/100\n",
            "\u001b[1m125/128\u001b[0m \u001b[32m━━━━━━━━━━━━━━━━━━━\u001b[0m\u001b[37m━\u001b[0m \u001b[1m0s\u001b[0m 10ms/step - accuracy: 0.8933 - auc: 0.9623 - loss: 0.2443 - precision: 0.8765📊 val_f1: 0.8523 | val_f2: 0.8817\n",
            "💾 F2 improved! Saving best weights...\n",
            "\u001b[1m128/128\u001b[0m \u001b[32m━━━━━━━━━━━━━━━━━━━━\u001b[0m\u001b[37m\u001b[0m \u001b[1m4s\u001b[0m 16ms/step - accuracy: 0.8933 - auc: 0.9623 - loss: 0.2443 - precision: 0.8765 - val_accuracy: 0.8392 - val_auc: 0.9090 - val_loss: 0.4217 - val_precision: 0.8074\n",
            "Epoch 48/100\n",
            "\u001b[1m125/128\u001b[0m \u001b[32m━━━━━━━━━━━━━━━━━━━\u001b[0m\u001b[37m━\u001b[0m \u001b[1m0s\u001b[0m 10ms/step - accuracy: 0.8958 - auc: 0.9633 - loss: 0.2414 - precision: 0.8791📊 val_f1: 0.8511 | val_f2: 0.8736\n",
            "\u001b[1m128/128\u001b[0m \u001b[32m━━━━━━━━━━━━━━━━━━━━\u001b[0m\u001b[37m\u001b[0m \u001b[1m3s\u001b[0m 16ms/step - accuracy: 0.8957 - auc: 0.9633 - loss: 0.2416 - precision: 0.8790 - val_accuracy: 0.8400 - val_auc: 0.9121 - val_loss: 0.4180 - val_precision: 0.8162\n",
            "Epoch 49/100\n",
            "\u001b[1m123/128\u001b[0m \u001b[32m━━━━━━━━━━━━━━━━━━━\u001b[0m\u001b[37m━\u001b[0m \u001b[1m0s\u001b[0m 11ms/step - accuracy: 0.8937 - auc: 0.9650 - loss: 0.2367 - precision: 0.8790📊 val_f1: 0.8519 | val_f2: 0.8824\n",
            "💾 F2 improved! Saving best weights...\n",
            "\u001b[1m128/128\u001b[0m \u001b[32m━━━━━━━━━━━━━━━━━━━━\u001b[0m\u001b[37m\u001b[0m \u001b[1m2s\u001b[0m 18ms/step - accuracy: 0.8935 - auc: 0.9649 - loss: 0.2371 - precision: 0.8787 - val_accuracy: 0.8383 - val_auc: 0.9094 - val_loss: 0.4249 - val_precision: 0.8055\n",
            "Epoch 50/100\n",
            "\u001b[1m127/128\u001b[0m \u001b[32m━━━━━━━━━━━━━━━━━━━\u001b[0m\u001b[37m━\u001b[0m \u001b[1m0s\u001b[0m 11ms/step - accuracy: 0.8932 - auc: 0.9639 - loss: 0.2394 - precision: 0.8765📊 val_f1: 0.8471 | val_f2: 0.8716\n",
            "\u001b[1m128/128\u001b[0m \u001b[32m━━━━━━━━━━━━━━━━━━━━\u001b[0m\u001b[37m\u001b[0m \u001b[1m2s\u001b[0m 19ms/step - accuracy: 0.8932 - auc: 0.9639 - loss: 0.2395 - precision: 0.8765 - val_accuracy: 0.8350 - val_auc: 0.9053 - val_loss: 0.4292 - val_precision: 0.8092\n",
            "Epoch 51/100\n",
            "\u001b[1m126/128\u001b[0m \u001b[32m━━━━━━━━━━━━━━━━━━━\u001b[0m\u001b[37m━\u001b[0m \u001b[1m0s\u001b[0m 15ms/step - accuracy: 0.8956 - auc: 0.9649 - loss: 0.2369 - precision: 0.8825📊 val_f1: 0.8566 | val_f2: 0.8779\n",
            "\u001b[1m128/128\u001b[0m \u001b[32m━━━━━━━━━━━━━━━━━━━━\u001b[0m\u001b[37m\u001b[0m \u001b[1m3s\u001b[0m 20ms/step - accuracy: 0.8956 - auc: 0.9649 - loss: 0.2371 - precision: 0.8824 - val_accuracy: 0.8463 - val_auc: 0.9101 - val_loss: 0.4172 - val_precision: 0.8232\n",
            "Epoch 52/100\n",
            "\u001b[1m124/128\u001b[0m \u001b[32m━━━━━━━━━━━━━━━━━━━\u001b[0m\u001b[37m━\u001b[0m \u001b[1m0s\u001b[0m 10ms/step - accuracy: 0.9027 - auc: 0.9686 - loss: 0.2239 - precision: 0.8870📊 val_f1: 0.8552 | val_f2: 0.8849\n",
            "💾 F2 improved! Saving best weights...\n",
            "\u001b[1m128/128\u001b[0m \u001b[32m━━━━━━━━━━━━━━━━━━━━\u001b[0m\u001b[37m\u001b[0m \u001b[1m2s\u001b[0m 16ms/step - accuracy: 0.9024 - auc: 0.9685 - loss: 0.2244 - precision: 0.8868 - val_accuracy: 0.8422 - val_auc: 0.9083 - val_loss: 0.4366 - val_precision: 0.8099\n",
            "Epoch 53/100\n",
            "\u001b[1m125/128\u001b[0m \u001b[32m━━━━━━━━━━━━━━━━━━━\u001b[0m\u001b[37m━\u001b[0m \u001b[1m0s\u001b[0m 10ms/step - accuracy: 0.8967 - auc: 0.9652 - loss: 0.2353 - precision: 0.8830📊 val_f1: 0.8499 | val_f2: 0.8770\n",
            "\u001b[1m128/128\u001b[0m \u001b[32m━━━━━━━━━━━━━━━━━━━━\u001b[0m\u001b[37m\u001b[0m \u001b[1m2s\u001b[0m 16ms/step - accuracy: 0.8967 - auc: 0.9652 - loss: 0.2353 - precision: 0.8830 - val_accuracy: 0.8372 - val_auc: 0.9086 - val_loss: 0.4313 - val_precision: 0.8082\n",
            "Epoch 54/100\n",
            "\u001b[1m128/128\u001b[0m \u001b[32m━━━━━━━━━━━━━━━━━━━━\u001b[0m\u001b[37m\u001b[0m \u001b[1m0s\u001b[0m 11ms/step - accuracy: 0.9017 - auc: 0.9675 - loss: 0.2271 - precision: 0.8843📊 val_f1: 0.8558 | val_f2: 0.8847\n",
            "\u001b[1m128/128\u001b[0m \u001b[32m━━━━━━━━━━━━━━━━━━━━\u001b[0m\u001b[37m\u001b[0m \u001b[1m2s\u001b[0m 17ms/step - accuracy: 0.9017 - auc: 0.9675 - loss: 0.2272 - precision: 0.8843 - val_accuracy: 0.8431 - val_auc: 0.9076 - val_loss: 0.4383 - val_precision: 0.8115\n",
            "Epoch 55/100\n",
            "\u001b[1m126/128\u001b[0m \u001b[32m━━━━━━━━━━━━━━━━━━━\u001b[0m\u001b[37m━\u001b[0m \u001b[1m0s\u001b[0m 10ms/step - accuracy: 0.9038 - auc: 0.9699 - loss: 0.2194 - precision: 0.8880📊 val_f1: 0.8560 | val_f2: 0.8721\n",
            "\u001b[1m128/128\u001b[0m \u001b[32m━━━━━━━━━━━━━━━━━━━━\u001b[0m\u001b[37m\u001b[0m \u001b[1m2s\u001b[0m 16ms/step - accuracy: 0.9037 - auc: 0.9699 - loss: 0.2196 - precision: 0.8879 - val_accuracy: 0.8471 - val_auc: 0.9148 - val_loss: 0.4259 - val_precision: 0.8303\n",
            "Epoch 56/100\n",
            "\u001b[1m126/128\u001b[0m \u001b[32m━━━━━━━━━━━━━━━━━━━\u001b[0m\u001b[37m━\u001b[0m \u001b[1m0s\u001b[0m 17ms/step - accuracy: 0.9046 - auc: 0.9703 - loss: 0.2170 - precision: 0.8892📊 val_f1: 0.8562 | val_f2: 0.8773\n",
            "\u001b[1m128/128\u001b[0m \u001b[32m━━━━━━━━━━━━━━━━━━━━\u001b[0m\u001b[37m\u001b[0m \u001b[1m4s\u001b[0m 24ms/step - accuracy: 0.9046 - auc: 0.9703 - loss: 0.2171 - precision: 0.8891 - val_accuracy: 0.8459 - val_auc: 0.9135 - val_loss: 0.4304 - val_precision: 0.8231\n",
            "Epoch 57/100\n",
            "\u001b[1m126/128\u001b[0m \u001b[32m━━━━━━━━━━━━━━━━━━━\u001b[0m\u001b[37m━\u001b[0m \u001b[1m0s\u001b[0m 10ms/step - accuracy: 0.9061 - auc: 0.9696 - loss: 0.2195 - precision: 0.8924📊 val_f1: 0.8597 | val_f2: 0.8821\n",
            "\u001b[1m128/128\u001b[0m \u001b[32m━━━━━━━━━━━━━━━━━━━━\u001b[0m\u001b[37m\u001b[0m \u001b[1m2s\u001b[0m 16ms/step - accuracy: 0.9060 - auc: 0.9695 - loss: 0.2197 - precision: 0.8923 - val_accuracy: 0.8493 - val_auc: 0.9165 - val_loss: 0.4183 - val_precision: 0.8248\n",
            "Epoch 58/100\n",
            "\u001b[1m127/128\u001b[0m \u001b[32m━━━━━━━━━━━━━━━━━━━\u001b[0m\u001b[37m━\u001b[0m \u001b[1m0s\u001b[0m 10ms/step - accuracy: 0.9081 - auc: 0.9727 - loss: 0.2089 - precision: 0.8947📊 val_f1: 0.8631 | val_f2: 0.8889\n",
            "💾 F2 improved! Saving best weights...\n",
            "\u001b[1m128/128\u001b[0m \u001b[32m━━━━━━━━━━━━━━━━━━━━\u001b[0m\u001b[37m\u001b[0m \u001b[1m2s\u001b[0m 18ms/step - accuracy: 0.9080 - auc: 0.9726 - loss: 0.2090 - precision: 0.8946 - val_accuracy: 0.8520 - val_auc: 0.9171 - val_loss: 0.4169 - val_precision: 0.8232\n",
            "Epoch 59/100\n",
            "\u001b[1m124/128\u001b[0m \u001b[32m━━━━━━━━━━━━━━━━━━━\u001b[0m\u001b[37m━\u001b[0m \u001b[1m0s\u001b[0m 11ms/step - accuracy: 0.9100 - auc: 0.9720 - loss: 0.2097 - precision: 0.8941📊 val_f1: 0.8576 | val_f2: 0.8834\n",
            "\u001b[1m128/128\u001b[0m \u001b[32m━━━━━━━━━━━━━━━━━━━━\u001b[0m\u001b[37m\u001b[0m \u001b[1m2s\u001b[0m 18ms/step - accuracy: 0.9099 - auc: 0.9720 - loss: 0.2099 - precision: 0.8940 - val_accuracy: 0.8460 - val_auc: 0.9122 - val_loss: 0.4396 - val_precision: 0.8177\n",
            "Epoch 60/100\n",
            "\u001b[1m126/128\u001b[0m \u001b[32m━━━━━━━━━━━━━━━━━━━\u001b[0m\u001b[37m━\u001b[0m \u001b[1m0s\u001b[0m 11ms/step - accuracy: 0.9079 - auc: 0.9729 - loss: 0.2076 - precision: 0.8949📊 val_f1: 0.8571 | val_f2: 0.8873\n",
            "\u001b[1m128/128\u001b[0m \u001b[32m━━━━━━━━━━━━━━━━━━━━\u001b[0m\u001b[37m\u001b[0m \u001b[1m2s\u001b[0m 16ms/step - accuracy: 0.9078 - auc: 0.9729 - loss: 0.2077 - precision: 0.8948 - val_accuracy: 0.8442 - val_auc: 0.9117 - val_loss: 0.4347 - val_precision: 0.8111\n",
            "Epoch 61/100\n",
            "\u001b[1m125/128\u001b[0m \u001b[32m━━━━━━━━━━━━━━━━━━━\u001b[0m\u001b[37m━\u001b[0m \u001b[1m0s\u001b[0m 18ms/step - accuracy: 0.9081 - auc: 0.9719 - loss: 0.2117 - precision: 0.8948📊 val_f1: 0.8609 | val_f2: 0.8824\n",
            "\u001b[1m128/128\u001b[0m \u001b[32m━━━━━━━━━━━━━━━━━━━━\u001b[0m\u001b[37m\u001b[0m \u001b[1m3s\u001b[0m 26ms/step - accuracy: 0.9081 - auc: 0.9719 - loss: 0.2118 - precision: 0.8948 - val_accuracy: 0.8509 - val_auc: 0.9174 - val_loss: 0.4251 - val_precision: 0.8274\n",
            "Epoch 62/100\n",
            "\u001b[1m128/128\u001b[0m \u001b[32m━━━━━━━━━━━━━━━━━━━━\u001b[0m\u001b[37m\u001b[0m \u001b[1m0s\u001b[0m 10ms/step - accuracy: 0.9107 - auc: 0.9730 - loss: 0.2073 - precision: 0.8964📊 val_f1: 0.8644 | val_f2: 0.8817\n",
            "\u001b[1m128/128\u001b[0m \u001b[32m━━━━━━━━━━━━━━━━━━━━\u001b[0m\u001b[37m\u001b[0m \u001b[1m2s\u001b[0m 16ms/step - accuracy: 0.9106 - auc: 0.9730 - loss: 0.2073 - precision: 0.8964 - val_accuracy: 0.8558 - val_auc: 0.9211 - val_loss: 0.4069 - val_precision: 0.8370\n",
            "Epoch 63/100\n",
            "\u001b[1m125/128\u001b[0m \u001b[32m━━━━━━━━━━━━━━━━━━━\u001b[0m\u001b[37m━\u001b[0m \u001b[1m0s\u001b[0m 11ms/step - accuracy: 0.9126 - auc: 0.9741 - loss: 0.2029 - precision: 0.8958📊 val_f1: 0.8646 | val_f2: 0.8933\n",
            "💾 F2 improved! Saving best weights...\n",
            "\u001b[1m128/128\u001b[0m \u001b[32m━━━━━━━━━━━━━━━━━━━━\u001b[0m\u001b[37m\u001b[0m \u001b[1m3s\u001b[0m 18ms/step - accuracy: 0.9125 - auc: 0.9740 - loss: 0.2032 - precision: 0.8957 - val_accuracy: 0.8529 - val_auc: 0.9192 - val_loss: 0.4197 - val_precision: 0.8207\n",
            "Epoch 64/100\n",
            "\u001b[1m126/128\u001b[0m \u001b[32m━━━━━━━━━━━━━━━━━━━\u001b[0m\u001b[37m━\u001b[0m \u001b[1m0s\u001b[0m 10ms/step - accuracy: 0.9105 - auc: 0.9737 - loss: 0.2046 - precision: 0.8939📊 val_f1: 0.8602 | val_f2: 0.8910\n",
            "\u001b[1m128/128\u001b[0m \u001b[32m━━━━━━━━━━━━━━━━━━━━\u001b[0m\u001b[37m\u001b[0m \u001b[1m2s\u001b[0m 17ms/step - accuracy: 0.9105 - auc: 0.9737 - loss: 0.2047 - precision: 0.8939 - val_accuracy: 0.8475 - val_auc: 0.9144 - val_loss: 0.4415 - val_precision: 0.8135\n",
            "Epoch 65/100\n",
            "\u001b[1m127/128\u001b[0m \u001b[32m━━━━━━━━━━━━━━━━━━━\u001b[0m\u001b[37m━\u001b[0m \u001b[1m0s\u001b[0m 10ms/step - accuracy: 0.9129 - auc: 0.9745 - loss: 0.2026 - precision: 0.8970📊 val_f1: 0.8595 | val_f2: 0.8970\n",
            "💾 F2 improved! Saving best weights...\n",
            "\u001b[1m128/128\u001b[0m \u001b[32m━━━━━━━━━━━━━━━━━━━━\u001b[0m\u001b[37m\u001b[0m \u001b[1m2s\u001b[0m 18ms/step - accuracy: 0.9129 - auc: 0.9744 - loss: 0.2027 - precision: 0.8969 - val_accuracy: 0.8447 - val_auc: 0.9126 - val_loss: 0.4726 - val_precision: 0.8035\n",
            "Epoch 66/100\n",
            "\u001b[1m127/128\u001b[0m \u001b[32m━━━━━━━━━━━━━━━━━━━\u001b[0m\u001b[37m━\u001b[0m \u001b[1m0s\u001b[0m 17ms/step - accuracy: 0.9157 - auc: 0.9755 - loss: 0.1982 - precision: 0.8991📊 val_f1: 0.8659 | val_f2: 0.8868\n",
            "\u001b[1m128/128\u001b[0m \u001b[32m━━━━━━━━━━━━━━━━━━━━\u001b[0m\u001b[37m\u001b[0m \u001b[1m3s\u001b[0m 24ms/step - accuracy: 0.9157 - auc: 0.9755 - loss: 0.1983 - precision: 0.8991 - val_accuracy: 0.8564 - val_auc: 0.9178 - val_loss: 0.4503 - val_precision: 0.8332\n",
            "Epoch 67/100\n",
            "\u001b[1m126/128\u001b[0m \u001b[32m━━━━━━━━━━━━━━━━━━━\u001b[0m\u001b[37m━\u001b[0m \u001b[1m0s\u001b[0m 10ms/step - accuracy: 0.9138 - auc: 0.9746 - loss: 0.2009 - precision: 0.8983📊 val_f1: 0.8684 | val_f2: 0.8884\n",
            "\u001b[1m128/128\u001b[0m \u001b[32m━━━━━━━━━━━━━━━━━━━━\u001b[0m\u001b[37m\u001b[0m \u001b[1m2s\u001b[0m 16ms/step - accuracy: 0.9138 - auc: 0.9746 - loss: 0.2008 - precision: 0.8983 - val_accuracy: 0.8593 - val_auc: 0.9209 - val_loss: 0.4275 - val_precision: 0.8370\n",
            "Epoch 68/100\n",
            "\u001b[1m126/128\u001b[0m \u001b[32m━━━━━━━━━━━━━━━━━━━\u001b[0m\u001b[37m━\u001b[0m \u001b[1m0s\u001b[0m 11ms/step - accuracy: 0.9188 - auc: 0.9763 - loss: 0.1942 - precision: 0.9045📊 val_f1: 0.8694 | val_f2: 0.8975\n",
            "💾 F2 improved! Saving best weights...\n",
            "\u001b[1m128/128\u001b[0m \u001b[32m━━━━━━━━━━━━━━━━━━━━\u001b[0m\u001b[37m\u001b[0m \u001b[1m2s\u001b[0m 18ms/step - accuracy: 0.9187 - auc: 0.9762 - loss: 0.1943 - precision: 0.9044 - val_accuracy: 0.8582 - val_auc: 0.9191 - val_loss: 0.4511 - val_precision: 0.8263\n",
            "Epoch 69/100\n",
            "\u001b[1m126/128\u001b[0m \u001b[32m━━━━━━━━━━━━━━━━━━━\u001b[0m\u001b[37m━\u001b[0m \u001b[1m0s\u001b[0m 11ms/step - accuracy: 0.9170 - auc: 0.9769 - loss: 0.1919 - precision: 0.9036📊 val_f1: 0.8671 | val_f2: 0.8903\n",
            "\u001b[1m128/128\u001b[0m \u001b[32m━━━━━━━━━━━━━━━━━━━━\u001b[0m\u001b[37m\u001b[0m \u001b[1m2s\u001b[0m 16ms/step - accuracy: 0.9169 - auc: 0.9769 - loss: 0.1921 - precision: 0.9036 - val_accuracy: 0.8570 - val_auc: 0.9194 - val_loss: 0.4228 - val_precision: 0.8309\n",
            "Epoch 70/100\n",
            "\u001b[1m124/128\u001b[0m \u001b[32m━━━━━━━━━━━━━━━━━━━\u001b[0m\u001b[37m━\u001b[0m \u001b[1m0s\u001b[0m 11ms/step - accuracy: 0.9192 - auc: 0.9776 - loss: 0.1885 - precision: 0.9062📊 val_f1: 0.8647 | val_f2: 0.8899\n",
            "\u001b[1m128/128\u001b[0m \u001b[32m━━━━━━━━━━━━━━━━━━━━\u001b[0m\u001b[37m\u001b[0m \u001b[1m2s\u001b[0m 17ms/step - accuracy: 0.9191 - auc: 0.9776 - loss: 0.1887 - precision: 0.9061 - val_accuracy: 0.8540 - val_auc: 0.9192 - val_loss: 0.4387 - val_precision: 0.8258\n",
            "Epoch 71/100\n",
            "\u001b[1m128/128\u001b[0m \u001b[32m━━━━━━━━━━━━━━━━━━━━\u001b[0m\u001b[37m\u001b[0m \u001b[1m0s\u001b[0m 18ms/step - accuracy: 0.9190 - auc: 0.9783 - loss: 0.1857 - precision: 0.9083📊 val_f1: 0.8660 | val_f2: 0.8937\n",
            "\u001b[1m128/128\u001b[0m \u001b[32m━━━━━━━━━━━━━━━━━━━━\u001b[0m\u001b[37m\u001b[0m \u001b[1m4s\u001b[0m 26ms/step - accuracy: 0.9190 - auc: 0.9783 - loss: 0.1857 - precision: 0.9083 - val_accuracy: 0.8547 - val_auc: 0.9184 - val_loss: 0.4385 - val_precision: 0.8235\n",
            "Epoch 72/100\n",
            "\u001b[1m124/128\u001b[0m \u001b[32m━━━━━━━━━━━━━━━━━━━\u001b[0m\u001b[37m━\u001b[0m \u001b[1m0s\u001b[0m 10ms/step - accuracy: 0.9239 - auc: 0.9794 - loss: 0.1816 - precision: 0.9094📊 val_f1: 0.8687 | val_f2: 0.8888\n",
            "\u001b[1m128/128\u001b[0m \u001b[32m━━━━━━━━━━━━━━━━━━━━\u001b[0m\u001b[37m\u001b[0m \u001b[1m4s\u001b[0m 16ms/step - accuracy: 0.9237 - auc: 0.9793 - loss: 0.1819 - precision: 0.9093 - val_accuracy: 0.8597 - val_auc: 0.9220 - val_loss: 0.4190 - val_precision: 0.8372\n",
            "Epoch 73/100\n",
            "\u001b[1m124/128\u001b[0m \u001b[32m━━━━━━━━━━━━━━━━━━━\u001b[0m\u001b[37m━\u001b[0m \u001b[1m0s\u001b[0m 11ms/step - accuracy: 0.9192 - auc: 0.9794 - loss: 0.1809 - precision: 0.9057📊 val_f1: 0.8649 | val_f2: 0.8957\n",
            "\u001b[1m128/128\u001b[0m \u001b[32m━━━━━━━━━━━━━━━━━━━━\u001b[0m\u001b[37m\u001b[0m \u001b[1m3s\u001b[0m 16ms/step - accuracy: 0.9192 - auc: 0.9794 - loss: 0.1813 - precision: 0.9056 - val_accuracy: 0.8526 - val_auc: 0.9177 - val_loss: 0.4447 - val_precision: 0.8181\n",
            "Epoch 74/100\n",
            "\u001b[1m127/128\u001b[0m \u001b[32m━━━━━━━━━━━━━━━━━━━\u001b[0m\u001b[37m━\u001b[0m \u001b[1m0s\u001b[0m 11ms/step - accuracy: 0.9186 - auc: 0.9771 - loss: 0.1916 - precision: 0.9041📊 val_f1: 0.8629 | val_f2: 0.8829\n",
            "\u001b[1m128/128\u001b[0m \u001b[32m━━━━━━━━━━━━━━━━━━━━\u001b[0m\u001b[37m\u001b[0m \u001b[1m2s\u001b[0m 16ms/step - accuracy: 0.9186 - auc: 0.9771 - loss: 0.1916 - precision: 0.9041 - val_accuracy: 0.8535 - val_auc: 0.9154 - val_loss: 0.4411 - val_precision: 0.8315\n",
            "Epoch 75/100\n",
            "\u001b[1m127/128\u001b[0m \u001b[32m━━━━━━━━━━━━━━━━━━━\u001b[0m\u001b[37m━\u001b[0m \u001b[1m0s\u001b[0m 13ms/step - accuracy: 0.9230 - auc: 0.9794 - loss: 0.1806 - precision: 0.9117📊 val_f1: 0.8687 | val_f2: 0.8866\n",
            "\u001b[1m128/128\u001b[0m \u001b[32m━━━━━━━━━━━━━━━━━━━━\u001b[0m\u001b[37m\u001b[0m \u001b[1m3s\u001b[0m 26ms/step - accuracy: 0.9230 - auc: 0.9794 - loss: 0.1807 - precision: 0.9116 - val_accuracy: 0.8602 - val_auc: 0.9233 - val_loss: 0.4191 - val_precision: 0.8404\n",
            "Epoch 76/100\n",
            "\u001b[1m126/128\u001b[0m \u001b[32m━━━━━━━━━━━━━━━━━━━\u001b[0m\u001b[37m━\u001b[0m \u001b[1m0s\u001b[0m 11ms/step - accuracy: 0.9223 - auc: 0.9785 - loss: 0.1844 - precision: 0.9076📊 val_f1: 0.8704 | val_f2: 0.8969\n",
            "\u001b[1m128/128\u001b[0m \u001b[32m━━━━━━━━━━━━━━━━━━━━\u001b[0m\u001b[37m\u001b[0m \u001b[1m2s\u001b[0m 18ms/step - accuracy: 0.9223 - auc: 0.9785 - loss: 0.1844 - precision: 0.9076 - val_accuracy: 0.8597 - val_auc: 0.9224 - val_loss: 0.4335 - val_precision: 0.8294\n",
            "Epoch 77/100\n",
            "\u001b[1m128/128\u001b[0m \u001b[32m━━━━━━━━━━━━━━━━━━━━\u001b[0m\u001b[37m\u001b[0m \u001b[1m0s\u001b[0m 11ms/step - accuracy: 0.9232 - auc: 0.9799 - loss: 0.1788 - precision: 0.9087📊 val_f1: 0.8720 | val_f2: 0.8936\n",
            "\u001b[1m128/128\u001b[0m \u001b[32m━━━━━━━━━━━━━━━━━━━━\u001b[0m\u001b[37m\u001b[0m \u001b[1m2s\u001b[0m 17ms/step - accuracy: 0.9232 - auc: 0.9799 - loss: 0.1789 - precision: 0.9087 - val_accuracy: 0.8628 - val_auc: 0.9238 - val_loss: 0.4271 - val_precision: 0.8381\n",
            "Epoch 78/100\n",
            "\u001b[1m127/128\u001b[0m \u001b[32m━━━━━━━━━━━━━━━━━━━\u001b[0m\u001b[37m━\u001b[0m \u001b[1m0s\u001b[0m 11ms/step - accuracy: 0.9277 - auc: 0.9812 - loss: 0.1733 - precision: 0.9127📊 val_f1: 0.8678 | val_f2: 0.8916\n",
            "\u001b[1m128/128\u001b[0m \u001b[32m━━━━━━━━━━━━━━━━━━━━\u001b[0m\u001b[37m\u001b[0m \u001b[1m3s\u001b[0m 18ms/step - accuracy: 0.9277 - auc: 0.9812 - loss: 0.1734 - precision: 0.9127 - val_accuracy: 0.8576 - val_auc: 0.9188 - val_loss: 0.4480 - val_precision: 0.8308\n",
            "Epoch 79/100\n",
            "\u001b[1m127/128\u001b[0m \u001b[32m━━━━━━━━━━━━━━━━━━━\u001b[0m\u001b[37m━\u001b[0m \u001b[1m0s\u001b[0m 11ms/step - accuracy: 0.9276 - auc: 0.9813 - loss: 0.1723 - precision: 0.9145📊 val_f1: 0.8667 | val_f2: 0.8839\n",
            "\u001b[1m128/128\u001b[0m \u001b[32m━━━━━━━━━━━━━━━━━━━━\u001b[0m\u001b[37m\u001b[0m \u001b[1m3s\u001b[0m 18ms/step - accuracy: 0.9276 - auc: 0.9813 - loss: 0.1723 - precision: 0.9144 - val_accuracy: 0.8582 - val_auc: 0.9191 - val_loss: 0.4414 - val_precision: 0.8393\n",
            "Epoch 80/100\n",
            "\u001b[1m127/128\u001b[0m \u001b[32m━━━━━━━━━━━━━━━━━━━\u001b[0m\u001b[37m━\u001b[0m \u001b[1m0s\u001b[0m 18ms/step - accuracy: 0.9270 - auc: 0.9813 - loss: 0.1727 - precision: 0.9170📊 val_f1: 0.8685 | val_f2: 0.9001\n",
            "💾 F2 improved! Saving best weights...\n",
            "\u001b[1m128/128\u001b[0m \u001b[32m━━━━━━━━━━━━━━━━━━━━\u001b[0m\u001b[37m\u001b[0m \u001b[1m3s\u001b[0m 26ms/step - accuracy: 0.9270 - auc: 0.9813 - loss: 0.1728 - precision: 0.9169 - val_accuracy: 0.8563 - val_auc: 0.9192 - val_loss: 0.4641 - val_precision: 0.8204\n",
            "Epoch 81/100\n",
            "\u001b[1m125/128\u001b[0m \u001b[32m━━━━━━━━━━━━━━━━━━━\u001b[0m\u001b[37m━\u001b[0m \u001b[1m0s\u001b[0m 12ms/step - accuracy: 0.9218 - auc: 0.9806 - loss: 0.1754 - precision: 0.9083📊 val_f1: 0.8712 | val_f2: 0.8960\n",
            "\u001b[1m128/128\u001b[0m \u001b[32m━━━━━━━━━━━━━━━━━━━━\u001b[0m\u001b[37m\u001b[0m \u001b[1m2s\u001b[0m 19ms/step - accuracy: 0.9219 - auc: 0.9806 - loss: 0.1755 - precision: 0.9084 - val_accuracy: 0.8611 - val_auc: 0.9223 - val_loss: 0.4530 - val_precision: 0.8326\n",
            "Epoch 82/100\n",
            "\u001b[1m124/128\u001b[0m \u001b[32m━━━━━━━━━━━━━━━━━━━\u001b[0m\u001b[37m━\u001b[0m \u001b[1m0s\u001b[0m 11ms/step - accuracy: 0.9267 - auc: 0.9813 - loss: 0.1737 - precision: 0.9134📊 val_f1: 0.8686 | val_f2: 0.8893\n",
            "\u001b[1m128/128\u001b[0m \u001b[32m━━━━━━━━━━━━━━━━━━━━\u001b[0m\u001b[37m\u001b[0m \u001b[1m2s\u001b[0m 18ms/step - accuracy: 0.9267 - auc: 0.9813 - loss: 0.1738 - precision: 0.9134 - val_accuracy: 0.8593 - val_auc: 0.9212 - val_loss: 0.4566 - val_precision: 0.8361\n",
            "Epoch 83/100\n",
            "\u001b[1m127/128\u001b[0m \u001b[32m━━━━━━━━━━━━━━━━━━━\u001b[0m\u001b[37m━\u001b[0m \u001b[1m0s\u001b[0m 11ms/step - accuracy: 0.9269 - auc: 0.9809 - loss: 0.1731 - precision: 0.9158📊 val_f1: 0.8718 | val_f2: 0.8896\n",
            "\u001b[1m128/128\u001b[0m \u001b[32m━━━━━━━━━━━━━━━━━━━━\u001b[0m\u001b[37m\u001b[0m \u001b[1m2s\u001b[0m 17ms/step - accuracy: 0.9269 - auc: 0.9809 - loss: 0.1731 - precision: 0.9157 - val_accuracy: 0.8636 - val_auc: 0.9215 - val_loss: 0.4346 - val_precision: 0.8438\n",
            "Epoch 84/100\n",
            "\u001b[1m127/128\u001b[0m \u001b[32m━━━━━━━━━━━━━━━━━━━\u001b[0m\u001b[37m━\u001b[0m \u001b[1m0s\u001b[0m 11ms/step - accuracy: 0.9267 - auc: 0.9814 - loss: 0.1721 - precision: 0.9157📊 val_f1: 0.8726 | val_f2: 0.8909\n",
            "\u001b[1m128/128\u001b[0m \u001b[32m━━━━━━━━━━━━━━━━━━━━\u001b[0m\u001b[37m\u001b[0m \u001b[1m3s\u001b[0m 23ms/step - accuracy: 0.9266 - auc: 0.9814 - loss: 0.1722 - precision: 0.9157 - val_accuracy: 0.8644 - val_auc: 0.9209 - val_loss: 0.4483 - val_precision: 0.8438\n",
            "Epoch 85/100\n",
            "\u001b[1m127/128\u001b[0m \u001b[32m━━━━━━━━━━━━━━━━━━━\u001b[0m\u001b[37m━\u001b[0m \u001b[1m0s\u001b[0m 11ms/step - accuracy: 0.9315 - auc: 0.9832 - loss: 0.1637 - precision: 0.9194📊 val_f1: 0.8705 | val_f2: 0.8902\n",
            "\u001b[1m128/128\u001b[0m \u001b[32m━━━━━━━━━━━━━━━━━━━━\u001b[0m\u001b[37m\u001b[0m \u001b[1m4s\u001b[0m 18ms/step - accuracy: 0.9314 - auc: 0.9832 - loss: 0.1637 - precision: 0.9193 - val_accuracy: 0.8617 - val_auc: 0.9213 - val_loss: 0.4430 - val_precision: 0.8394\n",
            "Epoch 86/100\n",
            "\u001b[1m128/128\u001b[0m \u001b[32m━━━━━━━━━━━━━━━━━━━━\u001b[0m\u001b[37m\u001b[0m \u001b[1m0s\u001b[0m 11ms/step - accuracy: 0.9298 - auc: 0.9823 - loss: 0.1680 - precision: 0.9183📊 val_f1: 0.8675 | val_f2: 0.8938\n",
            "\u001b[1m128/128\u001b[0m \u001b[32m━━━━━━━━━━━━━━━━━━━━\u001b[0m\u001b[37m\u001b[0m \u001b[1m2s\u001b[0m 17ms/step - accuracy: 0.9298 - auc: 0.9823 - loss: 0.1681 - precision: 0.9183 - val_accuracy: 0.8567 - val_auc: 0.9181 - val_loss: 0.4673 - val_precision: 0.8269\n",
            "Epoch 87/100\n",
            "\u001b[1m124/128\u001b[0m \u001b[32m━━━━━━━━━━━━━━━━━━━\u001b[0m\u001b[37m━\u001b[0m \u001b[1m0s\u001b[0m 11ms/step - accuracy: 0.9326 - auc: 0.9829 - loss: 0.1644 - precision: 0.9218📊 val_f1: 0.8710 | val_f2: 0.9005\n",
            "💾 F2 improved! Saving best weights...\n",
            "\u001b[1m128/128\u001b[0m \u001b[32m━━━━━━━━━━━━━━━━━━━━\u001b[0m\u001b[37m\u001b[0m \u001b[1m3s\u001b[0m 17ms/step - accuracy: 0.9325 - auc: 0.9829 - loss: 0.1645 - precision: 0.9217 - val_accuracy: 0.8596 - val_auc: 0.9192 - val_loss: 0.4720 - val_precision: 0.8258\n",
            "Epoch 88/100\n",
            "\u001b[1m126/128\u001b[0m \u001b[32m━━━━━━━━━━━━━━━━━━━\u001b[0m\u001b[37m━\u001b[0m \u001b[1m0s\u001b[0m 11ms/step - accuracy: 0.9306 - auc: 0.9830 - loss: 0.1647 - precision: 0.9173📊 val_f1: 0.8711 | val_f2: 0.9097\n",
            "💾 F2 improved! Saving best weights...\n",
            "\u001b[1m128/128\u001b[0m \u001b[32m━━━━━━━━━━━━━━━━━━━━\u001b[0m\u001b[37m\u001b[0m \u001b[1m3s\u001b[0m 25ms/step - accuracy: 0.9305 - auc: 0.9830 - loss: 0.1648 - precision: 0.9172 - val_accuracy: 0.8573 - val_auc: 0.9213 - val_loss: 0.4844 - val_precision: 0.8135\n",
            "Epoch 89/100\n",
            "\u001b[1m125/128\u001b[0m \u001b[32m━━━━━━━━━━━━━━━━━━━\u001b[0m\u001b[37m━\u001b[0m \u001b[1m0s\u001b[0m 12ms/step - accuracy: 0.9345 - auc: 0.9842 - loss: 0.1590 - precision: 0.9217📊 val_f1: 0.8697 | val_f2: 0.9036\n",
            "\u001b[1m128/128\u001b[0m \u001b[32m━━━━━━━━━━━━━━━━━━━━\u001b[0m\u001b[37m\u001b[0m \u001b[1m3s\u001b[0m 19ms/step - accuracy: 0.9343 - auc: 0.9841 - loss: 0.1592 - precision: 0.9215 - val_accuracy: 0.8570 - val_auc: 0.9176 - val_loss: 0.4760 - val_precision: 0.8185\n",
            "Epoch 90/100\n",
            "\u001b[1m125/128\u001b[0m \u001b[32m━━━━━━━━━━━━━━━━━━━\u001b[0m\u001b[37m━\u001b[0m \u001b[1m0s\u001b[0m 11ms/step - accuracy: 0.9300 - auc: 0.9825 - loss: 0.1652 - precision: 0.9170📊 val_f1: 0.8731 | val_f2: 0.9029\n",
            "\u001b[1m128/128\u001b[0m \u001b[32m━━━━━━━━━━━━━━━━━━━━\u001b[0m\u001b[37m\u001b[0m \u001b[1m2s\u001b[0m 17ms/step - accuracy: 0.9299 - auc: 0.9824 - loss: 0.1653 - precision: 0.9169 - val_accuracy: 0.8619 - val_auc: 0.9177 - val_loss: 0.4485 - val_precision: 0.8277\n",
            "Epoch 91/100\n",
            "\u001b[1m128/128\u001b[0m \u001b[32m━━━━━━━━━━━━━━━━━━━━\u001b[0m\u001b[37m\u001b[0m \u001b[1m0s\u001b[0m 11ms/step - accuracy: 0.9359 - auc: 0.9853 - loss: 0.1548 - precision: 0.9254📊 val_f1: 0.8770 | val_f2: 0.8980\n",
            "\u001b[1m128/128\u001b[0m \u001b[32m━━━━━━━━━━━━━━━━━━━━\u001b[0m\u001b[37m\u001b[0m \u001b[1m3s\u001b[0m 17ms/step - accuracy: 0.9359 - auc: 0.9853 - loss: 0.1548 - precision: 0.9253 - val_accuracy: 0.8684 - val_auc: 0.9259 - val_loss: 0.4359 - val_precision: 0.8442\n",
            "Epoch 92/100\n",
            "\u001b[1m125/128\u001b[0m \u001b[32m━━━━━━━━━━━━━━━━━━━\u001b[0m\u001b[37m━\u001b[0m \u001b[1m0s\u001b[0m 11ms/step - accuracy: 0.9369 - auc: 0.9858 - loss: 0.1501 - precision: 0.9254📊 val_f1: 0.8768 | val_f2: 0.9029\n",
            "\u001b[1m128/128\u001b[0m \u001b[32m━━━━━━━━━━━━━━━━━━━━\u001b[0m\u001b[37m\u001b[0m \u001b[1m3s\u001b[0m 18ms/step - accuracy: 0.9367 - auc: 0.9858 - loss: 0.1503 - precision: 0.9253 - val_accuracy: 0.8668 - val_auc: 0.9225 - val_loss: 0.4755 - val_precision: 0.8364\n",
            "Epoch 93/100\n",
            "\u001b[1m128/128\u001b[0m \u001b[32m━━━━━━━━━━━━━━━━━━━━\u001b[0m\u001b[37m\u001b[0m \u001b[1m0s\u001b[0m 17ms/step - accuracy: 0.9351 - auc: 0.9848 - loss: 0.1556 - precision: 0.9239📊 val_f1: 0.8740 | val_f2: 0.8964\n",
            "\u001b[1m128/128\u001b[0m \u001b[32m━━━━━━━━━━━━━━━━━━━━\u001b[0m\u001b[37m\u001b[0m \u001b[1m4s\u001b[0m 30ms/step - accuracy: 0.9351 - auc: 0.9848 - loss: 0.1556 - precision: 0.9239 - val_accuracy: 0.8647 - val_auc: 0.9209 - val_loss: 0.4732 - val_precision: 0.8390\n",
            "Epoch 94/100\n",
            "\u001b[1m124/128\u001b[0m \u001b[32m━━━━━━━━━━━━━━━━━━━\u001b[0m\u001b[37m━\u001b[0m \u001b[1m0s\u001b[0m 11ms/step - accuracy: 0.9359 - auc: 0.9856 - loss: 0.1516 - precision: 0.9232📊 val_f1: 0.8737 | val_f2: 0.8999\n",
            "\u001b[1m128/128\u001b[0m \u001b[32m━━━━━━━━━━━━━━━━━━━━\u001b[0m\u001b[37m\u001b[0m \u001b[1m3s\u001b[0m 16ms/step - accuracy: 0.9358 - auc: 0.9855 - loss: 0.1518 - precision: 0.9231 - val_accuracy: 0.8635 - val_auc: 0.9209 - val_loss: 0.4603 - val_precision: 0.8334\n",
            "Epoch 95/100\n",
            "\u001b[1m126/128\u001b[0m \u001b[32m━━━━━━━━━━━━━━━━━━━\u001b[0m\u001b[37m━\u001b[0m \u001b[1m0s\u001b[0m 11ms/step - accuracy: 0.9321 - auc: 0.9845 - loss: 0.1578 - precision: 0.9201📊 val_f1: 0.8741 | val_f2: 0.8923\n",
            "\u001b[1m128/128\u001b[0m \u001b[32m━━━━━━━━━━━━━━━━━━━━\u001b[0m\u001b[37m\u001b[0m \u001b[1m3s\u001b[0m 18ms/step - accuracy: 0.9321 - auc: 0.9845 - loss: 0.1579 - precision: 0.9201 - val_accuracy: 0.8659 - val_auc: 0.9214 - val_loss: 0.4740 - val_precision: 0.8454\n",
            "Epoch 96/100\n",
            "\u001b[1m128/128\u001b[0m \u001b[32m━━━━━━━━━━━━━━━━━━━━\u001b[0m\u001b[37m\u001b[0m \u001b[1m0s\u001b[0m 11ms/step - accuracy: 0.9300 - auc: 0.9833 - loss: 0.1625 - precision: 0.9192📊 val_f1: 0.8758 | val_f2: 0.9089\n",
            "\u001b[1m128/128\u001b[0m \u001b[32m━━━━━━━━━━━━━━━━━━━━\u001b[0m\u001b[37m\u001b[0m \u001b[1m2s\u001b[0m 17ms/step - accuracy: 0.9300 - auc: 0.9833 - loss: 0.1625 - precision: 0.9192 - val_accuracy: 0.8640 - val_auc: 0.9238 - val_loss: 0.4892 - val_precision: 0.8256\n",
            "Epoch 97/100\n",
            "\u001b[1m128/128\u001b[0m \u001b[32m━━━━━━━━━━━━━━━━━━━━\u001b[0m\u001b[37m\u001b[0m \u001b[1m0s\u001b[0m 14ms/step - accuracy: 0.9362 - auc: 0.9853 - loss: 0.1514 - precision: 0.9236📊 val_f1: 0.8785 | val_f2: 0.9024\n",
            "\u001b[1m128/128\u001b[0m \u001b[32m━━━━━━━━━━━━━━━━━━━━\u001b[0m\u001b[37m\u001b[0m \u001b[1m3s\u001b[0m 27ms/step - accuracy: 0.9362 - auc: 0.9853 - loss: 0.1514 - precision: 0.9236 - val_accuracy: 0.8693 - val_auc: 0.9252 - val_loss: 0.4481 - val_precision: 0.8413\n",
            "Epoch 98/100\n",
            "\u001b[1m124/128\u001b[0m \u001b[32m━━━━━━━━━━━━━━━━━━━\u001b[0m\u001b[37m━\u001b[0m \u001b[1m0s\u001b[0m 11ms/step - accuracy: 0.9385 - auc: 0.9862 - loss: 0.1480 - precision: 0.9266📊 val_f1: 0.8801 | val_f2: 0.9119\n",
            "💾 F2 improved! Saving best weights...\n",
            "\u001b[1m128/128\u001b[0m \u001b[32m━━━━━━━━━━━━━━━━━━━━\u001b[0m\u001b[37m\u001b[0m \u001b[1m4s\u001b[0m 18ms/step - accuracy: 0.9384 - auc: 0.9862 - loss: 0.1481 - precision: 0.9265 - val_accuracy: 0.8690 - val_auc: 0.9261 - val_loss: 0.4708 - val_precision: 0.8317\n",
            "Epoch 99/100\n",
            "\u001b[1m125/128\u001b[0m \u001b[32m━━━━━━━━━━━━━━━━━━━\u001b[0m\u001b[37m━\u001b[0m \u001b[1m0s\u001b[0m 11ms/step - accuracy: 0.9342 - auc: 0.9850 - loss: 0.1542 - precision: 0.9190📊 val_f1: 0.8748 | val_f2: 0.8999\n",
            "\u001b[1m128/128\u001b[0m \u001b[32m━━━━━━━━━━━━━━━━━━━━\u001b[0m\u001b[37m\u001b[0m \u001b[1m2s\u001b[0m 17ms/step - accuracy: 0.9342 - auc: 0.9851 - loss: 0.1541 - precision: 0.9190 - val_accuracy: 0.8650 - val_auc: 0.9244 - val_loss: 0.4731 - val_precision: 0.8360\n",
            "Epoch 100/100\n",
            "\u001b[1m124/128\u001b[0m \u001b[32m━━━━━━━━━━━━━━━━━━━\u001b[0m\u001b[37m━\u001b[0m \u001b[1m0s\u001b[0m 11ms/step - accuracy: 0.9380 - auc: 0.9864 - loss: 0.1473 - precision: 0.9257📊 val_f1: 0.8755 | val_f2: 0.9010\n",
            "\u001b[1m128/128\u001b[0m \u001b[32m━━━━━━━━━━━━━━━━━━━━\u001b[0m\u001b[37m\u001b[0m \u001b[1m3s\u001b[0m 18ms/step - accuracy: 0.9380 - auc: 0.9864 - loss: 0.1474 - precision: 0.9257 - val_accuracy: 0.8656 - val_auc: 0.9243 - val_loss: 0.4797 - val_precision: 0.8360\n"
          ]
        }
      ],
      "source": [
        "f1f2_callback = F1F2CheckpointCallback(X_val, y_val, checkpoint_path)\n",
        "\n",
        "def build_and_train_nn():\n",
        "    nn_model = KerasClassifier(\n",
        "        model=build_model,\n",
        "        epochs=100,\n",
        "        batch_size=256,\n",
        "        callbacks=[f1f2_callback],\n",
        "        verbose=1\n",
        "    )\n",
        "    nn_model.fit(X_train, y_train, validation_data=(X_val, y_val))\n",
        "    return nn_model\n",
        "\n",
        "nn_model = build_and_train_nn()"
      ]
    },
    {
      "cell_type": "code",
      "execution_count": 48,
      "metadata": {
        "colab": {
          "base_uri": "https://localhost:8080/"
        },
        "id": "BQPkqIIorZMS",
        "outputId": "4b044b11-2af2-4a1b-8ea7-dcb69cc9db78"
      },
      "outputs": [
        {
          "name": "stdout",
          "output_type": "stream",
          "text": [
            " Loading best model (highest F2 score)...\n",
            "\u001b[1m32/32\u001b[0m \u001b[32m━━━━━━━━━━━━━━━━━━━━\u001b[0m\u001b[37m\u001b[0m \u001b[1m0s\u001b[0m 3ms/step\n",
            "Final Best Model (Validation Set):\n",
            "Accuracy     : 0.8690\n",
            "Precision    : 0.8317\n",
            "Recall       : 0.9344\n",
            "AUC-ROC      : 0.8671\n",
            "F1 Score     : 0.8801\n",
            "F2 Score     : 0.9119\n"
          ]
        }
      ],
      "source": [
        "# Load Best Model (based on F2)\n",
        "print(\" Loading best model (highest F2 score)...\")\n",
        "nn_model.model_.load_weights(checkpoint_path)\n",
        "\n",
        "# Final Evaluation\n",
        "y_val_probs = nn_model.predict(X_val).ravel()\n",
        "y_val_preds = (y_val_probs >= 0.5).astype(int)\n",
        "\n",
        "acc = accuracy_score(y_val, y_val_preds)\n",
        "prec = precision_score(y_val, y_val_preds)\n",
        "rec = recall_score(y_val, y_val_preds)\n",
        "auc = roc_auc_score(y_val, y_val_probs)\n",
        "f1 = f1_score(y_val, y_val_preds)\n",
        "f2 = fbeta_score(y_val, y_val_preds, beta=2)\n",
        "\n",
        "print(\"Final Best Model (Validation Set):\")\n",
        "print(f\"Accuracy     : {acc:.4f}\")\n",
        "print(f\"Precision    : {prec:.4f}\")\n",
        "print(f\"Recall       : {rec:.4f}\")\n",
        "print(f\"AUC-ROC      : {auc:.4f}\")\n",
        "print(f\"F1 Score     : {f1:.4f}\")\n",
        "print(f\"F2 Score     : {f2:.4f}\")"
      ]
    },
    {
      "cell_type": "markdown",
      "metadata": {
        "id": "DyNL9SDYPXKT"
      },
      "source": [
        "On whole train data"
      ]
    },
    {
      "cell_type": "code",
      "execution_count": 50,
      "metadata": {
        "colab": {
          "base_uri": "https://localhost:8080/"
        },
        "id": "LQchRIkJPX9t",
        "outputId": "737329e8-76e6-4612-bded-9b6a08995819"
      },
      "outputs": [
        {
          "name": "stdout",
          "output_type": "stream",
          "text": [
            "\u001b[1m160/160\u001b[0m \u001b[32m━━━━━━━━━━━━━━━━━━━━\u001b[0m\u001b[37m\u001b[0m \u001b[1m2s\u001b[0m 12ms/step\n",
            "Final Best Model (Full Train Set):\n",
            "Accuracy     : 0.9402\n",
            "Precision    : 0.9110\n",
            "Recall       : 0.9757\n",
            "AUC-ROC      : 0.9402\n",
            "F1 Score     : 0.9423\n",
            "F2 Score     : 0.9621\n"
          ]
        }
      ],
      "source": [
        "y_probs = nn_model.predict(X).ravel()\n",
        "y_preds = (y_probs >= 0.5).astype(int)\n",
        "\n",
        "acc = accuracy_score(y, y_preds)\n",
        "prec = precision_score(y, y_preds)\n",
        "rec = recall_score(y, y_preds)\n",
        "auc = roc_auc_score(y, y_probs)\n",
        "f1 = f1_score(y, y_preds)\n",
        "f2 = fbeta_score(y, y_preds, beta=2)\n",
        "\n",
        "print(\"Final Best Model (Full Train Set):\")\n",
        "print(f\"Accuracy     : {acc:.4f}\")\n",
        "print(f\"Precision    : {prec:.4f}\")\n",
        "print(f\"Recall       : {rec:.4f}\")\n",
        "print(f\"AUC-ROC      : {auc:.4f}\")\n",
        "print(f\"F1 Score     : {f1:.4f}\")\n",
        "print(f\"F2 Score     : {f2:.4f}\")"
      ]
    },
    {
      "cell_type": "markdown",
      "metadata": {
        "id": "8tpPT1dL6evn"
      },
      "source": [
        "##Ensemble"
      ]
    },
    {
      "cell_type": "markdown",
      "metadata": {
        "id": "_Ggf5N0p6h2w"
      },
      "source": [
        "###hard voting"
      ]
    },
    {
      "cell_type": "code",
      "execution_count": 51,
      "metadata": {
        "colab": {
          "base_uri": "https://localhost:8080/"
        },
        "id": "IZGQSMktvE3Z",
        "outputId": "6de538df-aa58-4433-93a6-cadeb9b188fa"
      },
      "outputs": [
        {
          "name": "stdout",
          "output_type": "stream",
          "text": [
            "\u001b[1m32/32\u001b[0m \u001b[32m━━━━━━━━━━━━━━━━━━━━\u001b[0m\u001b[37m\u001b[0m \u001b[1m0s\u001b[0m 3ms/step\n",
            "\u001b[1m32/32\u001b[0m \u001b[32m━━━━━━━━━━━━━━━━━━━━\u001b[0m\u001b[37m\u001b[0m \u001b[1m0s\u001b[0m 3ms/step\n"
          ]
        }
      ],
      "source": [
        "# Predictions from each model (class labels)\n",
        "svm_preds = svm_model.predict(X_val)\n",
        "xgb_preds = xg_model.predict(X_val)\n",
        "nn_preds  = nn_model.predict(X_val)\n",
        "\n",
        "# Majority vote (hard voting)\n",
        "hard_preds = mode(np.vstack([svm_preds, xgb_preds, nn_preds]), axis=0).mode\n",
        "\n",
        "# Use soft-voting avg_probs for AUC-ROC (still valid since same inputs)\n",
        "svm_probs = svm_model.predict_proba(X_val)[:, 1]\n",
        "xgb_probs = xg_model.predict_proba(X_val)[:, 1]\n",
        "nn_probs  = nn_model.predict_proba(X_val)[:, 1]\n",
        "avg_probs = (svm_probs + xgb_probs + nn_probs) / 3"
      ]
    },
    {
      "cell_type": "code",
      "execution_count": 52,
      "metadata": {
        "colab": {
          "base_uri": "https://localhost:8080/"
        },
        "id": "Uj98lxbK839X",
        "outputId": "1666ede3-4759-47e6-b081-94231adbfaad"
      },
      "outputs": [
        {
          "name": "stdout",
          "output_type": "stream",
          "text": [
            "\n",
            "📘 Hard Voting Evaluation:\n",
            "🔹 Accuracy:  0.8759\n",
            "🔹 Precision: 0.8934\n",
            "🔹 Recall:     0.8614\n",
            "🔹 F1 Score:  0.8771\n",
            "🔹 F2 Score:  0.8676\n",
            "🔹 AUC-ROC:   0.9549\n"
          ]
        }
      ],
      "source": [
        "# Evaluation\n",
        "print(\"\\n📘 Hard Voting Evaluation:\")\n",
        "print(f\"🔹 Accuracy:  {accuracy_score(y_val, hard_preds):.4f}\")\n",
        "print(f\"🔹 Precision: {precision_score(y_val, hard_preds):.4f}\")\n",
        "print(f\"🔹 Recall:     {recall_score(y_val, hard_preds):.4f}\")\n",
        "print(f\"🔹 F1 Score:  {f1_score(y_val, hard_preds):.4f}\")\n",
        "print(f\"🔹 F2 Score:  {fbeta_score(y_val, hard_preds, beta=2):.4f}\")\n",
        "print(f\"🔹 AUC-ROC:   {roc_auc_score(y_val, avg_probs):.4f}\")"
      ]
    },
    {
      "cell_type": "markdown",
      "metadata": {
        "id": "00QHphYfPz41"
      },
      "source": [
        "On whole train data"
      ]
    },
    {
      "cell_type": "code",
      "execution_count": 53,
      "metadata": {
        "colab": {
          "base_uri": "https://localhost:8080/"
        },
        "id": "Ynt61UKZP3nW",
        "outputId": "953f7515-7609-43b3-bba9-e70bb8f3cc53"
      },
      "outputs": [
        {
          "name": "stdout",
          "output_type": "stream",
          "text": [
            "\u001b[1m160/160\u001b[0m \u001b[32m━━━━━━━━━━━━━━━━━━━━\u001b[0m\u001b[37m\u001b[0m \u001b[1m1s\u001b[0m 3ms/step\n",
            "\u001b[1m160/160\u001b[0m \u001b[32m━━━━━━━━━━━━━━━━━━━━\u001b[0m\u001b[37m\u001b[0m \u001b[1m0s\u001b[0m 3ms/step\n",
            "\n",
            "📘 Hard Voting Evaluation:\n",
            "🔹 Accuracy:  0.9230\n",
            "🔹 Precision: 0.9434\n",
            "🔹 Recall:     0.9000\n",
            "🔹 F1 Score:  0.9212\n",
            "🔹 F2 Score:  0.9084\n",
            "🔹 AUC-ROC:   0.9862\n"
          ]
        }
      ],
      "source": [
        "# Predictions from each model (class labels)\n",
        "svm_preds = svm_model.predict(X)\n",
        "xgb_preds = xg_model.predict(X)\n",
        "nn_preds  = nn_model.predict(X)\n",
        "\n",
        "# Majority vote (hard voting)\n",
        "hard_preds = mode(np.vstack([svm_preds, xgb_preds, nn_preds]), axis=0).mode\n",
        "\n",
        "# Use soft-voting avg_probs for AUC-ROC (still valid since same inputs)\n",
        "svm_probs = svm_model.predict_proba(X)[:, 1]\n",
        "xgb_probs = xg_model.predict_proba(X)[:, 1]\n",
        "nn_probs  = nn_model.predict_proba(X)[:, 1]\n",
        "avg_probs = (svm_probs + xgb_probs + nn_probs) / 3\n",
        "\n",
        "print(\"\\n📘 Hard Voting Evaluation:\")\n",
        "print(f\"🔹 Accuracy:  {accuracy_score(y, hard_preds):.4f}\")\n",
        "print(f\"🔹 Precision: {precision_score(y, hard_preds):.4f}\")\n",
        "print(f\"🔹 Recall:     {recall_score(y, hard_preds):.4f}\")\n",
        "print(f\"🔹 F1 Score:  {f1_score(y, hard_preds):.4f}\")\n",
        "print(f\"🔹 F2 Score:  {fbeta_score(y, hard_preds, beta=2):.4f}\")\n",
        "print(f\"🔹 AUC-ROC:   {roc_auc_score(y, avg_probs):.4f}\")"
      ]
    },
    {
      "cell_type": "markdown",
      "metadata": {
        "id": "vKsjrM_x6m9c"
      },
      "source": [
        "###soft voting"
      ]
    },
    {
      "cell_type": "code",
      "execution_count": 54,
      "metadata": {
        "colab": {
          "base_uri": "https://localhost:8080/"
        },
        "id": "EOAyBBJ75Fq8",
        "outputId": "61469d5b-923c-43b4-d580-ebbc85a7f92c"
      },
      "outputs": [
        {
          "name": "stdout",
          "output_type": "stream",
          "text": [
            "\u001b[1m32/32\u001b[0m \u001b[32m━━━━━━━━━━━━━━━━━━━━\u001b[0m\u001b[37m\u001b[0m \u001b[1m0s\u001b[0m 3ms/step\n"
          ]
        }
      ],
      "source": [
        "# Get predicted probabilities\n",
        "svm_probs = svm_model.predict_proba(X_val)[:, 1]\n",
        "xgb_probs = xg_model.predict_proba(X_val)[:, 1]\n",
        "nn_probs  = nn_model.predict_proba(X_val)[:, 1]\n",
        "\n",
        "# Average probabilities\n",
        "avg_probs = (svm_probs + xgb_probs + nn_probs) / 3"
      ]
    },
    {
      "cell_type": "code",
      "execution_count": 55,
      "metadata": {
        "colab": {
          "base_uri": "https://localhost:8080/"
        },
        "id": "GVLSMEp58O_c",
        "outputId": "63089edc-511e-450c-b1b7-5b3a715244b5"
      },
      "outputs": [
        {
          "name": "stdout",
          "output_type": "stream",
          "text": [
            "\n",
            "📘 Soft Voting Evaluation (Best Threshold = 0.38):\n",
            "🔹 Accuracy:  0.8771\n",
            "🔹 Precision: 0.8230\n",
            "🔹 Recall:     0.9696\n",
            "🔹 F1 Score:  0.8903\n",
            "🔹 F2 Score:  0.9362\n",
            "🔹 AUC-ROC:   0.9549\n"
          ]
        }
      ],
      "source": [
        "# Threshold tuning for best F2\n",
        "best_thresh = 0.5\n",
        "best_f2 = 0\n",
        "for t in np.arange(0, 1.01, 0.01):\n",
        "    preds = (avg_probs >= t).astype(int)\n",
        "    f2 = fbeta_score(y_val, preds, beta=2)\n",
        "    if f2 > best_f2:\n",
        "        best_f2 = f2\n",
        "        best_thresh = t\n",
        "\n",
        "# Final predictions using best threshold\n",
        "soft_preds = (avg_probs >= best_thresh).astype(int)\n",
        "\n",
        "# Evaluation\n",
        "print(f\"\\n📘 Soft Voting Evaluation (Best Threshold = {best_thresh:.2f}):\")\n",
        "print(f\"🔹 Accuracy:  {accuracy_score(y_val, soft_preds):.4f}\")\n",
        "print(f\"🔹 Precision: {precision_score(y_val, soft_preds):.4f}\")\n",
        "print(f\"🔹 Recall:     {recall_score(y_val, soft_preds):.4f}\")\n",
        "print(f\"🔹 F1 Score:  {f1_score(y_val, soft_preds):.4f}\")\n",
        "print(f\"🔹 F2 Score:  {fbeta_score(y_val, soft_preds, beta=2):.4f}\")\n",
        "print(f\"🔹 AUC-ROC:   {roc_auc_score(y_val, avg_probs):.4f}\")"
      ]
    },
    {
      "cell_type": "markdown",
      "metadata": {
        "id": "4fzlUzPRQYTT"
      },
      "source": [
        "On whole train data"
      ]
    },
    {
      "cell_type": "code",
      "execution_count": 56,
      "metadata": {
        "colab": {
          "base_uri": "https://localhost:8080/"
        },
        "id": "Da7v4HuWQRMa",
        "outputId": "d96ab249-0710-4f56-ebf7-35daa3765e29"
      },
      "outputs": [
        {
          "name": "stdout",
          "output_type": "stream",
          "text": [
            "\u001b[1m160/160\u001b[0m \u001b[32m━━━━━━━━━━━━━━━━━━━━\u001b[0m\u001b[37m\u001b[0m \u001b[1m1s\u001b[0m 5ms/step\n",
            "\n",
            "📘 Soft Voting Evaluation (Best Threshold = 0.38):\n",
            "🔹 Accuracy:  0.9321\n",
            "🔹 Precision: 0.8876\n",
            "🔹 Recall:     0.9894\n",
            "🔹 F1 Score:  0.9358\n",
            "🔹 F2 Score:  0.9672\n",
            "🔹 AUC-ROC:   0.9862\n"
          ]
        }
      ],
      "source": [
        "# Get predicted probabilities\n",
        "svm_probs = svm_model.predict_proba(X)[:, 1]\n",
        "xgb_probs = xg_model.predict_proba(X)[:, 1]\n",
        "nn_probs  = nn_model.predict_proba(X)[:, 1]\n",
        "\n",
        "# Average probabilities\n",
        "avg_probs = (svm_probs + xgb_probs + nn_probs) / 3\n",
        "\n",
        "# predictions using best threshold\n",
        "soft_preds = (avg_probs >= best_thresh).astype(int)\n",
        "\n",
        "# Evaluation\n",
        "print(f\"\\n📘 Soft Voting Evaluation (Best Threshold = {best_thresh:.2f}):\")\n",
        "print(f\"🔹 Accuracy:  {accuracy_score(y, soft_preds):.4f}\")\n",
        "print(f\"🔹 Precision: {precision_score(y, soft_preds):.4f}\")\n",
        "print(f\"🔹 Recall:     {recall_score(y, soft_preds):.4f}\")\n",
        "print(f\"🔹 F1 Score:  {f1_score(y, soft_preds):.4f}\")\n",
        "print(f\"🔹 F2 Score:  {fbeta_score(y, soft_preds, beta=2):.4f}\")\n",
        "print(f\"🔹 AUC-ROC:   {roc_auc_score(y, avg_probs):.4f}\")"
      ]
    },
    {
      "cell_type": "markdown",
      "metadata": {
        "id": "c718Rste48YD"
      },
      "source": [
        "#Final Submission"
      ]
    },
    {
      "cell_type": "code",
      "execution_count": 57,
      "metadata": {
        "colab": {
          "base_uri": "https://localhost:8080/"
        },
        "id": "kOtqQfdg4_ma",
        "outputId": "613e1ed9-b12d-48b3-9a9b-6353bb2bcc46"
      },
      "outputs": [
        {
          "name": "stdout",
          "output_type": "stream",
          "text": [
            "\u001b[1m20/20\u001b[0m \u001b[32m━━━━━━━━━━━━━━━━━━━━\u001b[0m\u001b[37m\u001b[0m \u001b[1m0s\u001b[0m 4ms/step\n",
            "Saved: submission_22323025.csv\n"
          ]
        }
      ],
      "source": [
        "svm_probs = svm_model.predict_proba(test_X)[:, 1]\n",
        "xgb_probs = xg_model.predict_proba(test_X)[:, 1]\n",
        "nn_probs  = nn_model.predict_proba(test_X)[:, 1]\n",
        "\n",
        "# Average probabilities\n",
        "avg_probs = (svm_probs + xgb_probs + nn_probs) / 3\n",
        "soft_preds = (avg_probs >= best_thresh).astype(int)\n",
        "submission = pd.DataFrame({\n",
        "    'Customer_Id': test_df['Customer_ID'],\n",
        "    'next_month_default': soft_preds\n",
        "})\n",
        "submission.to_csv(\"/content/submission_22323025.csv\", index=False)\n",
        "print(\"Saved: submission_22323025.csv\")"
      ]
    }
  ],
  "metadata": {
    "colab": {
      "collapsed_sections": [
        "CCwKBU2dH23P",
        "ne6bahpbKrjt",
        "xMsrRMBPJiFI",
        "OjYQvmY6Ipps",
        "CamIAGVURgLK",
        "kB1rpC4GW_o8",
        "JBCjZQ5N95re",
        "ADv2pzKR-Bza",
        "bXq_oCAFeMVd",
        "nIT4tI3fkFEU",
        "sZbRM5RMk9TQ",
        "_Ggf5N0p6h2w",
        "vKsjrM_x6m9c",
        "c718Rste48YD"
      ],
      "provenance": []
    },
    "kernelspec": {
      "display_name": "Python 3",
      "name": "python3"
    },
    "language_info": {
      "name": "python"
    }
  },
  "nbformat": 4,
  "nbformat_minor": 0
}
